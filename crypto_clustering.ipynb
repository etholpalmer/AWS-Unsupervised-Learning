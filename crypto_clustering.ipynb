{
 "cells": [
  {
   "cell_type": "markdown",
   "source": [
    "# Clustering Crypto"
   ],
   "metadata": {}
  },
  {
   "cell_type": "code",
   "execution_count": 3,
   "source": [
    "# Initial imports\r\n",
    "import requests\r\n",
    "import pandas as pd\r\n",
    "import matplotlib.pyplot as plt\r\n",
    "import hvplot.pandas\r\n",
    "import plotly.express as px\r\n",
    "from sklearn.preprocessing import StandardScaler, MinMaxScaler\r\n",
    "from sklearn.decomposition import PCA\r\n",
    "from sklearn.cluster import KMeans\r\n",
    "\r\n",
    "import urllib.request, json "
   ],
   "outputs": [],
   "metadata": {}
  },
  {
   "cell_type": "markdown",
   "source": [
    "### Fetching Cryptocurrency Data"
   ],
   "metadata": {}
  },
  {
   "cell_type": "code",
   "execution_count": 17,
   "source": [
    "# Use the following endpoint to fetch json data\r\n",
    "url_site = \"https://min-api.cryptocompare.com/data/all/coinlist\"\r\n",
    "\r\n",
    "with urllib.request.urlopen(url_site) as url:\r\n",
    "    data = json.loads(url.read().decode())\r\n",
    "\r\n",
    "    if data[\"Response\"]==\"Success\":\r\n",
    "        all_data = data\r\n",
    "    else:\r\n",
    "        print(\"NOT ABLE TO READ THE COIN DATA!!!\")"
   ],
   "outputs": [],
   "metadata": {}
  },
  {
   "cell_type": "code",
   "execution_count": 22,
   "source": [
    "# Create a DataFrame \r\n",
    "# HINT: You will need to use the 'Data' key from the json response, then transpose the DataFrame.\r\n",
    "\r\n",
    "df = pd.DataFrame(data=all_data[\"Data\"]).T\r\n",
    "df.head(2)"
   ],
   "outputs": [
    {
     "output_type": "execute_result",
     "data": {
      "text/plain": [
       "         Id                  Url                 ImageUrl ContentCreatedOn  \\\n",
       "42     4321   /coins/42/overview   /media/35650717/42.jpg       1427211129   \n",
       "300  749869  /coins/300/overview  /media/27010595/300.png       1517935016   \n",
       "\n",
       "    Name Symbol   CoinName         FullName  \\\n",
       "42    42     42    42 Coin     42 Coin (42)   \n",
       "300  300    300  300 token  300 token (300)   \n",
       "\n",
       "                                           Description AssetTokenStatus  ...  \\\n",
       "42   Everything about 42 coin is 42 - apart from th...              N/A  ...   \n",
       "300  300 token is an ERC20 token. This Token was cr...              N/A  ...   \n",
       "\n",
       "    AssetLaunchDate MaxSupply MktCapPenalty IsUsedInDefi IsUsedInNft  \\\n",
       "42       0000-00-00         0             0            0           0   \n",
       "300      2017-07-01       300             0            0           0   \n",
       "\n",
       "    PlatformType BuiltOn                        SmartContractAddress  \\\n",
       "42           NaN     NaN                                         NaN   \n",
       "300        token     ETH  0xaec98a708810414878c3bcdf46aad31ded4a4557   \n",
       "\n",
       "    DecimalPoints Difficulty  \n",
       "42            NaN        NaN  \n",
       "300            18        NaN  \n",
       "\n",
       "[2 rows x 32 columns]"
      ],
      "text/html": [
       "<div>\n",
       "<style scoped>\n",
       "    .dataframe tbody tr th:only-of-type {\n",
       "        vertical-align: middle;\n",
       "    }\n",
       "\n",
       "    .dataframe tbody tr th {\n",
       "        vertical-align: top;\n",
       "    }\n",
       "\n",
       "    .dataframe thead th {\n",
       "        text-align: right;\n",
       "    }\n",
       "</style>\n",
       "<table border=\"1\" class=\"dataframe\">\n",
       "  <thead>\n",
       "    <tr style=\"text-align: right;\">\n",
       "      <th></th>\n",
       "      <th>Id</th>\n",
       "      <th>Url</th>\n",
       "      <th>ImageUrl</th>\n",
       "      <th>ContentCreatedOn</th>\n",
       "      <th>Name</th>\n",
       "      <th>Symbol</th>\n",
       "      <th>CoinName</th>\n",
       "      <th>FullName</th>\n",
       "      <th>Description</th>\n",
       "      <th>AssetTokenStatus</th>\n",
       "      <th>...</th>\n",
       "      <th>AssetLaunchDate</th>\n",
       "      <th>MaxSupply</th>\n",
       "      <th>MktCapPenalty</th>\n",
       "      <th>IsUsedInDefi</th>\n",
       "      <th>IsUsedInNft</th>\n",
       "      <th>PlatformType</th>\n",
       "      <th>BuiltOn</th>\n",
       "      <th>SmartContractAddress</th>\n",
       "      <th>DecimalPoints</th>\n",
       "      <th>Difficulty</th>\n",
       "    </tr>\n",
       "  </thead>\n",
       "  <tbody>\n",
       "    <tr>\n",
       "      <th>42</th>\n",
       "      <td>4321</td>\n",
       "      <td>/coins/42/overview</td>\n",
       "      <td>/media/35650717/42.jpg</td>\n",
       "      <td>1427211129</td>\n",
       "      <td>42</td>\n",
       "      <td>42</td>\n",
       "      <td>42 Coin</td>\n",
       "      <td>42 Coin (42)</td>\n",
       "      <td>Everything about 42 coin is 42 - apart from th...</td>\n",
       "      <td>N/A</td>\n",
       "      <td>...</td>\n",
       "      <td>0000-00-00</td>\n",
       "      <td>0</td>\n",
       "      <td>0</td>\n",
       "      <td>0</td>\n",
       "      <td>0</td>\n",
       "      <td>NaN</td>\n",
       "      <td>NaN</td>\n",
       "      <td>NaN</td>\n",
       "      <td>NaN</td>\n",
       "      <td>NaN</td>\n",
       "    </tr>\n",
       "    <tr>\n",
       "      <th>300</th>\n",
       "      <td>749869</td>\n",
       "      <td>/coins/300/overview</td>\n",
       "      <td>/media/27010595/300.png</td>\n",
       "      <td>1517935016</td>\n",
       "      <td>300</td>\n",
       "      <td>300</td>\n",
       "      <td>300 token</td>\n",
       "      <td>300 token (300)</td>\n",
       "      <td>300 token is an ERC20 token. This Token was cr...</td>\n",
       "      <td>N/A</td>\n",
       "      <td>...</td>\n",
       "      <td>2017-07-01</td>\n",
       "      <td>300</td>\n",
       "      <td>0</td>\n",
       "      <td>0</td>\n",
       "      <td>0</td>\n",
       "      <td>token</td>\n",
       "      <td>ETH</td>\n",
       "      <td>0xaec98a708810414878c3bcdf46aad31ded4a4557</td>\n",
       "      <td>18</td>\n",
       "      <td>NaN</td>\n",
       "    </tr>\n",
       "  </tbody>\n",
       "</table>\n",
       "<p>2 rows × 32 columns</p>\n",
       "</div>"
      ]
     },
     "metadata": {},
     "execution_count": 22
    }
   ],
   "metadata": {}
  },
  {
   "cell_type": "code",
   "execution_count": null,
   "source": [
    "# Alternatively, use the provided csv file:\r\n",
    "# file_path = Path(\"Resources/crypto_data.csv\")\r\n",
    "\r\n",
    "# Create a DataFrame\r\n"
   ],
   "outputs": [],
   "metadata": {}
  },
  {
   "cell_type": "markdown",
   "source": [
    "### Data Preprocessing"
   ],
   "metadata": {}
  },
  {
   "cell_type": "code",
   "execution_count": null,
   "source": [
    "# Keep only necessary columns:\r\n",
    "# 'CoinName','Algorithm','IsTrading','ProofType','TotalCoinsMined','TotalCoinSupply'\r\n",
    "\r\n"
   ],
   "outputs": [],
   "metadata": {}
  },
  {
   "cell_type": "code",
   "execution_count": null,
   "source": [
    "# Keep only cryptocurrencies that are trading\r\n",
    "\r\n"
   ],
   "outputs": [],
   "metadata": {}
  },
  {
   "cell_type": "code",
   "execution_count": null,
   "source": [
    "# Keep only cryptocurrencies with a working algorithm\r\n",
    "\r\n"
   ],
   "outputs": [],
   "metadata": {}
  },
  {
   "cell_type": "code",
   "execution_count": null,
   "source": [
    "# Remove the 'IsTrading' column\r\n",
    "\r\n"
   ],
   "outputs": [],
   "metadata": {}
  },
  {
   "cell_type": "code",
   "execution_count": null,
   "source": [
    "# Remove rows with at least 1 null value\n",
    "\n"
   ],
   "outputs": [],
   "metadata": {}
  },
  {
   "cell_type": "code",
   "execution_count": null,
   "source": [
    "# Remove rows with cryptocurrencies having no coins mined\n",
    "\n"
   ],
   "outputs": [],
   "metadata": {}
  },
  {
   "cell_type": "code",
   "execution_count": null,
   "source": [
    "# Drop rows where there are 'N/A' text values\n",
    "\n"
   ],
   "outputs": [],
   "metadata": {}
  },
  {
   "cell_type": "code",
   "execution_count": null,
   "source": [
    "# Store the 'CoinName'column in its own DataFrame prior to dropping it from crypto_df \n",
    "\n"
   ],
   "outputs": [],
   "metadata": {}
  },
  {
   "cell_type": "code",
   "execution_count": null,
   "source": [
    "# Drop the 'CoinName' column since it's not going to be used on the clustering algorithm\n",
    "\n"
   ],
   "outputs": [],
   "metadata": {}
  },
  {
   "cell_type": "code",
   "execution_count": null,
   "source": [
    "# Create dummy variables for text features\n",
    "\n"
   ],
   "outputs": [],
   "metadata": {}
  },
  {
   "cell_type": "code",
   "execution_count": null,
   "source": [
    "# Standardize data\n",
    "\n"
   ],
   "outputs": [],
   "metadata": {}
  },
  {
   "cell_type": "markdown",
   "source": [
    "### Reducing Dimensions Using PCA"
   ],
   "metadata": {}
  },
  {
   "cell_type": "code",
   "execution_count": null,
   "source": [
    "# Use PCA to reduce dimensions to 3 principal components\n",
    "\n"
   ],
   "outputs": [],
   "metadata": {}
  },
  {
   "cell_type": "code",
   "execution_count": null,
   "source": [
    "# Create a DataFrame with the principal components data\n",
    "\n"
   ],
   "outputs": [],
   "metadata": {}
  },
  {
   "cell_type": "markdown",
   "source": [
    "### Clustering Crytocurrencies Using K-Means\n",
    "\n",
    "#### Finding the Best Value for `k` Using the Elbow Curve"
   ],
   "metadata": {}
  },
  {
   "cell_type": "code",
   "execution_count": null,
   "source": [
    "inertia = []\n",
    "k = list(range(1, 11))\n",
    "\n",
    "# Calculate the inertia for the range of k values\n",
    "for i in k:\n",
    "\n",
    "\n",
    "# Create the Elbow Curve using hvPlot\n",
    "\n"
   ],
   "outputs": [],
   "metadata": {}
  },
  {
   "cell_type": "markdown",
   "source": [
    "Running K-Means with `k=<your best value for k here>`"
   ],
   "metadata": {}
  },
  {
   "cell_type": "code",
   "execution_count": null,
   "source": [
    "# Initialize the K-Means model\n",
    "\n",
    "# Fit the model\n",
    "\n",
    "# Predict clusters\n",
    "\n",
    "# Create a new DataFrame including predicted clusters and cryptocurrencies features\n",
    "\n"
   ],
   "outputs": [],
   "metadata": {}
  },
  {
   "cell_type": "markdown",
   "source": [
    "### Visualizing Results\n",
    "\n",
    "#### 3D-Scatter with Clusters"
   ],
   "metadata": {}
  },
  {
   "cell_type": "code",
   "execution_count": null,
   "source": [
    "# Create a 3D-Scatter with the PCA data and the clusters\n",
    "\n"
   ],
   "outputs": [],
   "metadata": {}
  },
  {
   "cell_type": "markdown",
   "source": [
    "#### Table of Tradable Cryptocurrencies"
   ],
   "metadata": {}
  },
  {
   "cell_type": "code",
   "execution_count": null,
   "source": [
    "# Table with tradable cryptos\n",
    "\n"
   ],
   "outputs": [],
   "metadata": {}
  },
  {
   "cell_type": "code",
   "execution_count": null,
   "source": [
    "# Print the total number of tradable cryptocurrencies"
   ],
   "outputs": [],
   "metadata": {}
  },
  {
   "cell_type": "markdown",
   "source": [
    "#### Scatter Plot with Tradable Cryptocurrencies"
   ],
   "metadata": {}
  },
  {
   "cell_type": "code",
   "execution_count": null,
   "source": [
    "# Scale data to create the scatter plot\n",
    "\n"
   ],
   "outputs": [],
   "metadata": {}
  },
  {
   "cell_type": "code",
   "execution_count": null,
   "source": [
    "# Plot the scatter with x=\"TotalCoinsMined\" and y=\"TotalCoinSupply\"\n",
    "\n"
   ],
   "outputs": [],
   "metadata": {}
  }
 ],
 "metadata": {
  "file_extension": ".py",
  "kernelspec": {
   "name": "python3",
   "display_name": "Python 3.9.5 64-bit"
  },
  "language_info": {
   "codemirror_mode": {
    "name": "ipython",
    "version": 3
   },
   "file_extension": ".py",
   "mimetype": "text/x-python",
   "name": "python",
   "nbconvert_exporter": "python",
   "pygments_lexer": "ipython3",
   "version": "3.9.5"
  },
  "mimetype": "text/x-python",
  "name": "python",
  "npconvert_exporter": "python",
  "pygments_lexer": "ipython3",
  "version": 3,
  "interpreter": {
   "hash": "ac59ebe37160ed0dfa835113d9b8498d9f09ceb179beaac4002f036b9467c963"
  }
 },
 "nbformat": 4,
 "nbformat_minor": 4
}