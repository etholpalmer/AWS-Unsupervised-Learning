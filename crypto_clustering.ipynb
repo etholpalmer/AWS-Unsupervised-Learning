{
 "cells": [
  {
   "cell_type": "markdown",
   "source": [
    "# Clustering Crypto"
   ],
   "metadata": {}
  },
  {
   "cell_type": "code",
   "execution_count": 100,
   "source": [
    "# Initial imports\r\n",
    "import requests\r\n",
    "import pandas as pd\r\n",
    "import matplotlib.pyplot as plt\r\n",
    "import hvplot.pandas\r\n",
    "import plotly.express as px\r\n",
    "from sklearn.preprocessing import StandardScaler, MinMaxScaler\r\n",
    "from sklearn.decomposition import PCA\r\n",
    "from sklearn.cluster import KMeans\r\n",
    "\r\n",
    "import urllib.request, json \r\n",
    "from pathlib import Path\r\n",
    "\r\n",
    "from returns.result import Result, safe"
   ],
   "outputs": [],
   "metadata": {}
  },
  {
   "cell_type": "code",
   "execution_count": 101,
   "source": [
    "import sys\r\n",
    "if \"../lib\" not in sys.path:\r\n",
    "    print(\"Adding '../lib' to the path\")\r\n",
    "    sys.path.append(\"../lib\")\r\n",
    "import pandasPalmer as pp\r\n",
    "import NLTK.fns as nl\r\n",
    "import Classification.fns as cls\r\n"
   ],
   "outputs": [],
   "metadata": {}
  },
  {
   "cell_type": "markdown",
   "source": [
    "### Fetching Cryptocurrency Data"
   ],
   "metadata": {}
  },
  {
   "cell_type": "code",
   "execution_count": 102,
   "source": [
    "# Use the following endpoint to fetch json data\r\n",
    "url_site = \"https://min-api.cryptocompare.com/data/all/coinlist\"\r\n",
    "\r\n",
    "with urllib.request.urlopen(url_site) as url:\r\n",
    "    data = json.loads(url.read().decode())\r\n",
    "\r\n",
    "    if data[\"Response\"]==\"Success\":\r\n",
    "        all_data = data\r\n",
    "    else:\r\n",
    "        print(\"NOT ABLE TO READ THE COIN DATA!!!\")"
   ],
   "outputs": [],
   "metadata": {}
  },
  {
   "cell_type": "code",
   "execution_count": 103,
   "source": [
    "# Create a DataFrame \r\n",
    "# HINT: You will need to use the 'Data' key from the json response, then transpose the DataFrame.\r\n",
    "\r\n",
    "df = pd.DataFrame(data=all_data[\"Data\"]).T\r\n",
    "df.head(2)"
   ],
   "outputs": [
    {
     "output_type": "execute_result",
     "data": {
      "text/plain": [
       "         Id                  Url                 ImageUrl ContentCreatedOn  \\\n",
       "42     4321   /coins/42/overview   /media/35650717/42.jpg       1427211129   \n",
       "300  749869  /coins/300/overview  /media/27010595/300.png       1517935016   \n",
       "\n",
       "    Name Symbol   CoinName         FullName  \\\n",
       "42    42     42    42 Coin     42 Coin (42)   \n",
       "300  300    300  300 token  300 token (300)   \n",
       "\n",
       "                                           Description AssetTokenStatus  ...  \\\n",
       "42   Everything about 42 coin is 42 - apart from th...              N/A  ...   \n",
       "300  300 token is an ERC20 token. This Token was cr...              N/A  ...   \n",
       "\n",
       "    MaxSupply MktCapPenalty IsUsedInDefi IsUsedInNft PlatformType BuiltOn  \\\n",
       "42          0             0            0           0          NaN     NaN   \n",
       "300       300             0            0           0        token     ETH   \n",
       "\n",
       "                           SmartContractAddress DecimalPoints Difficulty  \\\n",
       "42                                          NaN           NaN        NaN   \n",
       "300  0xaec98a708810414878c3bcdf46aad31ded4a4557            18        NaN   \n",
       "\n",
       "    CirculatingSupply  \n",
       "42                NaN  \n",
       "300               NaN  \n",
       "\n",
       "[2 rows x 33 columns]"
      ],
      "text/html": [
       "<div>\n",
       "<style scoped>\n",
       "    .dataframe tbody tr th:only-of-type {\n",
       "        vertical-align: middle;\n",
       "    }\n",
       "\n",
       "    .dataframe tbody tr th {\n",
       "        vertical-align: top;\n",
       "    }\n",
       "\n",
       "    .dataframe thead th {\n",
       "        text-align: right;\n",
       "    }\n",
       "</style>\n",
       "<table border=\"1\" class=\"dataframe\">\n",
       "  <thead>\n",
       "    <tr style=\"text-align: right;\">\n",
       "      <th></th>\n",
       "      <th>Id</th>\n",
       "      <th>Url</th>\n",
       "      <th>ImageUrl</th>\n",
       "      <th>ContentCreatedOn</th>\n",
       "      <th>Name</th>\n",
       "      <th>Symbol</th>\n",
       "      <th>CoinName</th>\n",
       "      <th>FullName</th>\n",
       "      <th>Description</th>\n",
       "      <th>AssetTokenStatus</th>\n",
       "      <th>...</th>\n",
       "      <th>MaxSupply</th>\n",
       "      <th>MktCapPenalty</th>\n",
       "      <th>IsUsedInDefi</th>\n",
       "      <th>IsUsedInNft</th>\n",
       "      <th>PlatformType</th>\n",
       "      <th>BuiltOn</th>\n",
       "      <th>SmartContractAddress</th>\n",
       "      <th>DecimalPoints</th>\n",
       "      <th>Difficulty</th>\n",
       "      <th>CirculatingSupply</th>\n",
       "    </tr>\n",
       "  </thead>\n",
       "  <tbody>\n",
       "    <tr>\n",
       "      <th>42</th>\n",
       "      <td>4321</td>\n",
       "      <td>/coins/42/overview</td>\n",
       "      <td>/media/35650717/42.jpg</td>\n",
       "      <td>1427211129</td>\n",
       "      <td>42</td>\n",
       "      <td>42</td>\n",
       "      <td>42 Coin</td>\n",
       "      <td>42 Coin (42)</td>\n",
       "      <td>Everything about 42 coin is 42 - apart from th...</td>\n",
       "      <td>N/A</td>\n",
       "      <td>...</td>\n",
       "      <td>0</td>\n",
       "      <td>0</td>\n",
       "      <td>0</td>\n",
       "      <td>0</td>\n",
       "      <td>NaN</td>\n",
       "      <td>NaN</td>\n",
       "      <td>NaN</td>\n",
       "      <td>NaN</td>\n",
       "      <td>NaN</td>\n",
       "      <td>NaN</td>\n",
       "    </tr>\n",
       "    <tr>\n",
       "      <th>300</th>\n",
       "      <td>749869</td>\n",
       "      <td>/coins/300/overview</td>\n",
       "      <td>/media/27010595/300.png</td>\n",
       "      <td>1517935016</td>\n",
       "      <td>300</td>\n",
       "      <td>300</td>\n",
       "      <td>300 token</td>\n",
       "      <td>300 token (300)</td>\n",
       "      <td>300 token is an ERC20 token. This Token was cr...</td>\n",
       "      <td>N/A</td>\n",
       "      <td>...</td>\n",
       "      <td>300</td>\n",
       "      <td>0</td>\n",
       "      <td>0</td>\n",
       "      <td>0</td>\n",
       "      <td>token</td>\n",
       "      <td>ETH</td>\n",
       "      <td>0xaec98a708810414878c3bcdf46aad31ded4a4557</td>\n",
       "      <td>18</td>\n",
       "      <td>NaN</td>\n",
       "      <td>NaN</td>\n",
       "    </tr>\n",
       "  </tbody>\n",
       "</table>\n",
       "<p>2 rows × 33 columns</p>\n",
       "</div>"
      ]
     },
     "metadata": {},
     "execution_count": 103
    }
   ],
   "metadata": {}
  },
  {
   "cell_type": "code",
   "execution_count": 104,
   "source": [
    "# Alternatively, use the provided csv file:\r\n",
    "file_path = Path(\"./Resources/crypto_data.csv\")\r\n",
    "\r\n",
    "# Create a DataFrame\r\n",
    "df_csv = pd.read_csv(file_path)\r\n",
    "df_csv.head()"
   ],
   "outputs": [
    {
     "output_type": "execute_result",
     "data": {
      "text/plain": [
       "  Unnamed: 0   CoinName Algorithm  IsTrading ProofType  TotalCoinsMined  \\\n",
       "0         42    42 Coin    Scrypt       True   PoW/PoS     4.199995e+01   \n",
       "1        365    365Coin       X11       True   PoW/PoS              NaN   \n",
       "2        404    404Coin    Scrypt       True   PoW/PoS     1.055185e+09   \n",
       "3        611  SixEleven   SHA-256       True       PoW              NaN   \n",
       "4        808        808   SHA-256       True   PoW/PoS     0.000000e+00   \n",
       "\n",
       "  TotalCoinSupply  \n",
       "0              42  \n",
       "1      2300000000  \n",
       "2       532000000  \n",
       "3          611000  \n",
       "4               0  "
      ],
      "text/html": [
       "<div>\n",
       "<style scoped>\n",
       "    .dataframe tbody tr th:only-of-type {\n",
       "        vertical-align: middle;\n",
       "    }\n",
       "\n",
       "    .dataframe tbody tr th {\n",
       "        vertical-align: top;\n",
       "    }\n",
       "\n",
       "    .dataframe thead th {\n",
       "        text-align: right;\n",
       "    }\n",
       "</style>\n",
       "<table border=\"1\" class=\"dataframe\">\n",
       "  <thead>\n",
       "    <tr style=\"text-align: right;\">\n",
       "      <th></th>\n",
       "      <th>Unnamed: 0</th>\n",
       "      <th>CoinName</th>\n",
       "      <th>Algorithm</th>\n",
       "      <th>IsTrading</th>\n",
       "      <th>ProofType</th>\n",
       "      <th>TotalCoinsMined</th>\n",
       "      <th>TotalCoinSupply</th>\n",
       "    </tr>\n",
       "  </thead>\n",
       "  <tbody>\n",
       "    <tr>\n",
       "      <th>0</th>\n",
       "      <td>42</td>\n",
       "      <td>42 Coin</td>\n",
       "      <td>Scrypt</td>\n",
       "      <td>True</td>\n",
       "      <td>PoW/PoS</td>\n",
       "      <td>4.199995e+01</td>\n",
       "      <td>42</td>\n",
       "    </tr>\n",
       "    <tr>\n",
       "      <th>1</th>\n",
       "      <td>365</td>\n",
       "      <td>365Coin</td>\n",
       "      <td>X11</td>\n",
       "      <td>True</td>\n",
       "      <td>PoW/PoS</td>\n",
       "      <td>NaN</td>\n",
       "      <td>2300000000</td>\n",
       "    </tr>\n",
       "    <tr>\n",
       "      <th>2</th>\n",
       "      <td>404</td>\n",
       "      <td>404Coin</td>\n",
       "      <td>Scrypt</td>\n",
       "      <td>True</td>\n",
       "      <td>PoW/PoS</td>\n",
       "      <td>1.055185e+09</td>\n",
       "      <td>532000000</td>\n",
       "    </tr>\n",
       "    <tr>\n",
       "      <th>3</th>\n",
       "      <td>611</td>\n",
       "      <td>SixEleven</td>\n",
       "      <td>SHA-256</td>\n",
       "      <td>True</td>\n",
       "      <td>PoW</td>\n",
       "      <td>NaN</td>\n",
       "      <td>611000</td>\n",
       "    </tr>\n",
       "    <tr>\n",
       "      <th>4</th>\n",
       "      <td>808</td>\n",
       "      <td>808</td>\n",
       "      <td>SHA-256</td>\n",
       "      <td>True</td>\n",
       "      <td>PoW/PoS</td>\n",
       "      <td>0.000000e+00</td>\n",
       "      <td>0</td>\n",
       "    </tr>\n",
       "  </tbody>\n",
       "</table>\n",
       "</div>"
      ]
     },
     "metadata": {},
     "execution_count": 104
    }
   ],
   "metadata": {}
  },
  {
   "cell_type": "markdown",
   "source": [
    "### Data Preprocessing"
   ],
   "metadata": {}
  },
  {
   "cell_type": "code",
   "execution_count": 105,
   "source": [
    "# Keep only necessary columns:\r\n",
    "# 'CoinName','Algorithm','IsTrading','ProofType','TotalCoinsMined','TotalCoinSupply'\r\n",
    "df = df_csv[['CoinName','Algorithm','IsTrading','ProofType','TotalCoinsMined','TotalCoinSupply']]  #,'TotalCoinSupply'\r\n",
    "df.head(2)"
   ],
   "outputs": [
    {
     "output_type": "execute_result",
     "data": {
      "text/plain": [
       "  CoinName Algorithm  IsTrading ProofType  TotalCoinsMined TotalCoinSupply\n",
       "0  42 Coin    Scrypt       True   PoW/PoS        41.999954              42\n",
       "1  365Coin       X11       True   PoW/PoS              NaN      2300000000"
      ],
      "text/html": [
       "<div>\n",
       "<style scoped>\n",
       "    .dataframe tbody tr th:only-of-type {\n",
       "        vertical-align: middle;\n",
       "    }\n",
       "\n",
       "    .dataframe tbody tr th {\n",
       "        vertical-align: top;\n",
       "    }\n",
       "\n",
       "    .dataframe thead th {\n",
       "        text-align: right;\n",
       "    }\n",
       "</style>\n",
       "<table border=\"1\" class=\"dataframe\">\n",
       "  <thead>\n",
       "    <tr style=\"text-align: right;\">\n",
       "      <th></th>\n",
       "      <th>CoinName</th>\n",
       "      <th>Algorithm</th>\n",
       "      <th>IsTrading</th>\n",
       "      <th>ProofType</th>\n",
       "      <th>TotalCoinsMined</th>\n",
       "      <th>TotalCoinSupply</th>\n",
       "    </tr>\n",
       "  </thead>\n",
       "  <tbody>\n",
       "    <tr>\n",
       "      <th>0</th>\n",
       "      <td>42 Coin</td>\n",
       "      <td>Scrypt</td>\n",
       "      <td>True</td>\n",
       "      <td>PoW/PoS</td>\n",
       "      <td>41.999954</td>\n",
       "      <td>42</td>\n",
       "    </tr>\n",
       "    <tr>\n",
       "      <th>1</th>\n",
       "      <td>365Coin</td>\n",
       "      <td>X11</td>\n",
       "      <td>True</td>\n",
       "      <td>PoW/PoS</td>\n",
       "      <td>NaN</td>\n",
       "      <td>2300000000</td>\n",
       "    </tr>\n",
       "  </tbody>\n",
       "</table>\n",
       "</div>"
      ]
     },
     "metadata": {},
     "execution_count": 105
    }
   ],
   "metadata": {}
  },
  {
   "cell_type": "code",
   "execution_count": 106,
   "source": [
    "# Keep only cryptocurrencies that are trading\r\n",
    "trading_status = df.IsTrading == True\r\n",
    "df = df[trading_status]\r\n",
    "df.head(2)"
   ],
   "outputs": [
    {
     "output_type": "execute_result",
     "data": {
      "text/plain": [
       "  CoinName Algorithm  IsTrading ProofType  TotalCoinsMined TotalCoinSupply\n",
       "0  42 Coin    Scrypt       True   PoW/PoS        41.999954              42\n",
       "1  365Coin       X11       True   PoW/PoS              NaN      2300000000"
      ],
      "text/html": [
       "<div>\n",
       "<style scoped>\n",
       "    .dataframe tbody tr th:only-of-type {\n",
       "        vertical-align: middle;\n",
       "    }\n",
       "\n",
       "    .dataframe tbody tr th {\n",
       "        vertical-align: top;\n",
       "    }\n",
       "\n",
       "    .dataframe thead th {\n",
       "        text-align: right;\n",
       "    }\n",
       "</style>\n",
       "<table border=\"1\" class=\"dataframe\">\n",
       "  <thead>\n",
       "    <tr style=\"text-align: right;\">\n",
       "      <th></th>\n",
       "      <th>CoinName</th>\n",
       "      <th>Algorithm</th>\n",
       "      <th>IsTrading</th>\n",
       "      <th>ProofType</th>\n",
       "      <th>TotalCoinsMined</th>\n",
       "      <th>TotalCoinSupply</th>\n",
       "    </tr>\n",
       "  </thead>\n",
       "  <tbody>\n",
       "    <tr>\n",
       "      <th>0</th>\n",
       "      <td>42 Coin</td>\n",
       "      <td>Scrypt</td>\n",
       "      <td>True</td>\n",
       "      <td>PoW/PoS</td>\n",
       "      <td>41.999954</td>\n",
       "      <td>42</td>\n",
       "    </tr>\n",
       "    <tr>\n",
       "      <th>1</th>\n",
       "      <td>365Coin</td>\n",
       "      <td>X11</td>\n",
       "      <td>True</td>\n",
       "      <td>PoW/PoS</td>\n",
       "      <td>NaN</td>\n",
       "      <td>2300000000</td>\n",
       "    </tr>\n",
       "  </tbody>\n",
       "</table>\n",
       "</div>"
      ]
     },
     "metadata": {},
     "execution_count": 106
    }
   ],
   "metadata": {}
  },
  {
   "cell_type": "code",
   "execution_count": 107,
   "source": [
    "# Keep only cryptocurrencies with a working algorithm\r\n",
    "working_algo = df.Algorithm != \"N/A\"\r\n",
    "df = df[working_algo]\r\n",
    "df.head(2)"
   ],
   "outputs": [
    {
     "output_type": "execute_result",
     "data": {
      "text/plain": [
       "  CoinName Algorithm  IsTrading ProofType  TotalCoinsMined TotalCoinSupply\n",
       "0  42 Coin    Scrypt       True   PoW/PoS        41.999954              42\n",
       "1  365Coin       X11       True   PoW/PoS              NaN      2300000000"
      ],
      "text/html": [
       "<div>\n",
       "<style scoped>\n",
       "    .dataframe tbody tr th:only-of-type {\n",
       "        vertical-align: middle;\n",
       "    }\n",
       "\n",
       "    .dataframe tbody tr th {\n",
       "        vertical-align: top;\n",
       "    }\n",
       "\n",
       "    .dataframe thead th {\n",
       "        text-align: right;\n",
       "    }\n",
       "</style>\n",
       "<table border=\"1\" class=\"dataframe\">\n",
       "  <thead>\n",
       "    <tr style=\"text-align: right;\">\n",
       "      <th></th>\n",
       "      <th>CoinName</th>\n",
       "      <th>Algorithm</th>\n",
       "      <th>IsTrading</th>\n",
       "      <th>ProofType</th>\n",
       "      <th>TotalCoinsMined</th>\n",
       "      <th>TotalCoinSupply</th>\n",
       "    </tr>\n",
       "  </thead>\n",
       "  <tbody>\n",
       "    <tr>\n",
       "      <th>0</th>\n",
       "      <td>42 Coin</td>\n",
       "      <td>Scrypt</td>\n",
       "      <td>True</td>\n",
       "      <td>PoW/PoS</td>\n",
       "      <td>41.999954</td>\n",
       "      <td>42</td>\n",
       "    </tr>\n",
       "    <tr>\n",
       "      <th>1</th>\n",
       "      <td>365Coin</td>\n",
       "      <td>X11</td>\n",
       "      <td>True</td>\n",
       "      <td>PoW/PoS</td>\n",
       "      <td>NaN</td>\n",
       "      <td>2300000000</td>\n",
       "    </tr>\n",
       "  </tbody>\n",
       "</table>\n",
       "</div>"
      ]
     },
     "metadata": {},
     "execution_count": 107
    }
   ],
   "metadata": {}
  },
  {
   "cell_type": "code",
   "execution_count": 108,
   "source": [
    "# Remove the 'IsTrading' column\r\n",
    "if (\"IsTrading\" in df.columns):\r\n",
    "    df.drop(axis='columns', columns='IsTrading', inplace=True)\r\n",
    "else:\r\n",
    "    print(\"The 'IsTrading' Column is already deleted\")\r\n",
    "df.head(2)"
   ],
   "outputs": [
    {
     "output_type": "execute_result",
     "data": {
      "text/plain": [
       "  CoinName Algorithm ProofType  TotalCoinsMined TotalCoinSupply\n",
       "0  42 Coin    Scrypt   PoW/PoS        41.999954              42\n",
       "1  365Coin       X11   PoW/PoS              NaN      2300000000"
      ],
      "text/html": [
       "<div>\n",
       "<style scoped>\n",
       "    .dataframe tbody tr th:only-of-type {\n",
       "        vertical-align: middle;\n",
       "    }\n",
       "\n",
       "    .dataframe tbody tr th {\n",
       "        vertical-align: top;\n",
       "    }\n",
       "\n",
       "    .dataframe thead th {\n",
       "        text-align: right;\n",
       "    }\n",
       "</style>\n",
       "<table border=\"1\" class=\"dataframe\">\n",
       "  <thead>\n",
       "    <tr style=\"text-align: right;\">\n",
       "      <th></th>\n",
       "      <th>CoinName</th>\n",
       "      <th>Algorithm</th>\n",
       "      <th>ProofType</th>\n",
       "      <th>TotalCoinsMined</th>\n",
       "      <th>TotalCoinSupply</th>\n",
       "    </tr>\n",
       "  </thead>\n",
       "  <tbody>\n",
       "    <tr>\n",
       "      <th>0</th>\n",
       "      <td>42 Coin</td>\n",
       "      <td>Scrypt</td>\n",
       "      <td>PoW/PoS</td>\n",
       "      <td>41.999954</td>\n",
       "      <td>42</td>\n",
       "    </tr>\n",
       "    <tr>\n",
       "      <th>1</th>\n",
       "      <td>365Coin</td>\n",
       "      <td>X11</td>\n",
       "      <td>PoW/PoS</td>\n",
       "      <td>NaN</td>\n",
       "      <td>2300000000</td>\n",
       "    </tr>\n",
       "  </tbody>\n",
       "</table>\n",
       "</div>"
      ]
     },
     "metadata": {},
     "execution_count": 108
    }
   ],
   "metadata": {}
  },
  {
   "cell_type": "code",
   "execution_count": 109,
   "source": [
    "# Remove rows with at least 1 null value\r\n",
    "df.dropna(inplace=True)\r\n",
    "df.isnull().sum()\r\n",
    "_ = [print(f\"Column \\t'{col}'   \\thas {df[col].isnull().sum()} null values\") for col in df.columns]"
   ],
   "outputs": [
    {
     "output_type": "stream",
     "name": "stdout",
     "text": [
      "Column \t'CoinName'   \thas 0 null values\n",
      "Column \t'Algorithm'   \thas 0 null values\n",
      "Column \t'ProofType'   \thas 0 null values\n",
      "Column \t'TotalCoinsMined'   \thas 0 null values\n",
      "Column \t'TotalCoinSupply'   \thas 0 null values\n"
     ]
    }
   ],
   "metadata": {}
  },
  {
   "cell_type": "code",
   "execution_count": 110,
   "source": [
    "# Remove rows with cryptocurrencies having no coins mined\r\n",
    "df = df[df.TotalCoinsMined>0]\r\n",
    "df.head(2)"
   ],
   "outputs": [
    {
     "output_type": "execute_result",
     "data": {
      "text/plain": [
       "  CoinName Algorithm ProofType  TotalCoinsMined TotalCoinSupply\n",
       "0  42 Coin    Scrypt   PoW/PoS     4.199995e+01              42\n",
       "2  404Coin    Scrypt   PoW/PoS     1.055185e+09       532000000"
      ],
      "text/html": [
       "<div>\n",
       "<style scoped>\n",
       "    .dataframe tbody tr th:only-of-type {\n",
       "        vertical-align: middle;\n",
       "    }\n",
       "\n",
       "    .dataframe tbody tr th {\n",
       "        vertical-align: top;\n",
       "    }\n",
       "\n",
       "    .dataframe thead th {\n",
       "        text-align: right;\n",
       "    }\n",
       "</style>\n",
       "<table border=\"1\" class=\"dataframe\">\n",
       "  <thead>\n",
       "    <tr style=\"text-align: right;\">\n",
       "      <th></th>\n",
       "      <th>CoinName</th>\n",
       "      <th>Algorithm</th>\n",
       "      <th>ProofType</th>\n",
       "      <th>TotalCoinsMined</th>\n",
       "      <th>TotalCoinSupply</th>\n",
       "    </tr>\n",
       "  </thead>\n",
       "  <tbody>\n",
       "    <tr>\n",
       "      <th>0</th>\n",
       "      <td>42 Coin</td>\n",
       "      <td>Scrypt</td>\n",
       "      <td>PoW/PoS</td>\n",
       "      <td>4.199995e+01</td>\n",
       "      <td>42</td>\n",
       "    </tr>\n",
       "    <tr>\n",
       "      <th>2</th>\n",
       "      <td>404Coin</td>\n",
       "      <td>Scrypt</td>\n",
       "      <td>PoW/PoS</td>\n",
       "      <td>1.055185e+09</td>\n",
       "      <td>532000000</td>\n",
       "    </tr>\n",
       "  </tbody>\n",
       "</table>\n",
       "</div>"
      ]
     },
     "metadata": {},
     "execution_count": 110
    }
   ],
   "metadata": {}
  },
  {
   "cell_type": "code",
   "execution_count": 111,
   "source": [
    "# Drop rows where there are 'N/A' text values\r\n",
    "Xnavalues = (df.CoinName!=\"N/A\") & (df.Algorithm!=\"N/A\") & (df.ProofType!=\"N/A\")\r\n",
    "df = df[Xnavalues]\r\n",
    "df.head(2)"
   ],
   "outputs": [
    {
     "output_type": "execute_result",
     "data": {
      "text/plain": [
       "  CoinName Algorithm ProofType  TotalCoinsMined TotalCoinSupply\n",
       "0  42 Coin    Scrypt   PoW/PoS     4.199995e+01              42\n",
       "2  404Coin    Scrypt   PoW/PoS     1.055185e+09       532000000"
      ],
      "text/html": [
       "<div>\n",
       "<style scoped>\n",
       "    .dataframe tbody tr th:only-of-type {\n",
       "        vertical-align: middle;\n",
       "    }\n",
       "\n",
       "    .dataframe tbody tr th {\n",
       "        vertical-align: top;\n",
       "    }\n",
       "\n",
       "    .dataframe thead th {\n",
       "        text-align: right;\n",
       "    }\n",
       "</style>\n",
       "<table border=\"1\" class=\"dataframe\">\n",
       "  <thead>\n",
       "    <tr style=\"text-align: right;\">\n",
       "      <th></th>\n",
       "      <th>CoinName</th>\n",
       "      <th>Algorithm</th>\n",
       "      <th>ProofType</th>\n",
       "      <th>TotalCoinsMined</th>\n",
       "      <th>TotalCoinSupply</th>\n",
       "    </tr>\n",
       "  </thead>\n",
       "  <tbody>\n",
       "    <tr>\n",
       "      <th>0</th>\n",
       "      <td>42 Coin</td>\n",
       "      <td>Scrypt</td>\n",
       "      <td>PoW/PoS</td>\n",
       "      <td>4.199995e+01</td>\n",
       "      <td>42</td>\n",
       "    </tr>\n",
       "    <tr>\n",
       "      <th>2</th>\n",
       "      <td>404Coin</td>\n",
       "      <td>Scrypt</td>\n",
       "      <td>PoW/PoS</td>\n",
       "      <td>1.055185e+09</td>\n",
       "      <td>532000000</td>\n",
       "    </tr>\n",
       "  </tbody>\n",
       "</table>\n",
       "</div>"
      ]
     },
     "metadata": {},
     "execution_count": 111
    }
   ],
   "metadata": {}
  },
  {
   "cell_type": "code",
   "execution_count": 112,
   "source": [
    "# Store the 'CoinName'column in its own DataFrame prior to dropping it from crypto_df \r\n",
    "crypto_df = df.copy(deep=True)\r\n",
    "coin_name_df = pd.DataFrame(data=df.CoinName)\r\n",
    "coin_name_df.head(2)"
   ],
   "outputs": [
    {
     "output_type": "execute_result",
     "data": {
      "text/plain": [
       "  CoinName\n",
       "0  42 Coin\n",
       "2  404Coin"
      ],
      "text/html": [
       "<div>\n",
       "<style scoped>\n",
       "    .dataframe tbody tr th:only-of-type {\n",
       "        vertical-align: middle;\n",
       "    }\n",
       "\n",
       "    .dataframe tbody tr th {\n",
       "        vertical-align: top;\n",
       "    }\n",
       "\n",
       "    .dataframe thead th {\n",
       "        text-align: right;\n",
       "    }\n",
       "</style>\n",
       "<table border=\"1\" class=\"dataframe\">\n",
       "  <thead>\n",
       "    <tr style=\"text-align: right;\">\n",
       "      <th></th>\n",
       "      <th>CoinName</th>\n",
       "    </tr>\n",
       "  </thead>\n",
       "  <tbody>\n",
       "    <tr>\n",
       "      <th>0</th>\n",
       "      <td>42 Coin</td>\n",
       "    </tr>\n",
       "    <tr>\n",
       "      <th>2</th>\n",
       "      <td>404Coin</td>\n",
       "    </tr>\n",
       "  </tbody>\n",
       "</table>\n",
       "</div>"
      ]
     },
     "metadata": {},
     "execution_count": 112
    }
   ],
   "metadata": {}
  },
  {
   "cell_type": "code",
   "execution_count": 113,
   "source": [
    "# Drop the 'CoinName' column since it's not going to be used on the clustering algorithm\r\n",
    "if (\"CoinName\" in crypto_df.columns):\r\n",
    "    crypto_df.drop(axis=\"columns\",columns=\"CoinName\",inplace=True)\r\n",
    "else:\r\n",
    "    print(\"CoinName already deleted\")\r\n",
    "crypto_df.head()"
   ],
   "outputs": [
    {
     "output_type": "execute_result",
     "data": {
      "text/plain": [
       "  Algorithm ProofType  TotalCoinsMined TotalCoinSupply\n",
       "0    Scrypt   PoW/PoS     4.199995e+01              42\n",
       "2    Scrypt   PoW/PoS     1.055185e+09       532000000\n",
       "5       X13   PoW/PoS     2.927942e+10    314159265359\n",
       "7   SHA-256       PoW     1.792718e+07        21000000\n",
       "8    Ethash       PoW     1.076842e+08               0"
      ],
      "text/html": [
       "<div>\n",
       "<style scoped>\n",
       "    .dataframe tbody tr th:only-of-type {\n",
       "        vertical-align: middle;\n",
       "    }\n",
       "\n",
       "    .dataframe tbody tr th {\n",
       "        vertical-align: top;\n",
       "    }\n",
       "\n",
       "    .dataframe thead th {\n",
       "        text-align: right;\n",
       "    }\n",
       "</style>\n",
       "<table border=\"1\" class=\"dataframe\">\n",
       "  <thead>\n",
       "    <tr style=\"text-align: right;\">\n",
       "      <th></th>\n",
       "      <th>Algorithm</th>\n",
       "      <th>ProofType</th>\n",
       "      <th>TotalCoinsMined</th>\n",
       "      <th>TotalCoinSupply</th>\n",
       "    </tr>\n",
       "  </thead>\n",
       "  <tbody>\n",
       "    <tr>\n",
       "      <th>0</th>\n",
       "      <td>Scrypt</td>\n",
       "      <td>PoW/PoS</td>\n",
       "      <td>4.199995e+01</td>\n",
       "      <td>42</td>\n",
       "    </tr>\n",
       "    <tr>\n",
       "      <th>2</th>\n",
       "      <td>Scrypt</td>\n",
       "      <td>PoW/PoS</td>\n",
       "      <td>1.055185e+09</td>\n",
       "      <td>532000000</td>\n",
       "    </tr>\n",
       "    <tr>\n",
       "      <th>5</th>\n",
       "      <td>X13</td>\n",
       "      <td>PoW/PoS</td>\n",
       "      <td>2.927942e+10</td>\n",
       "      <td>314159265359</td>\n",
       "    </tr>\n",
       "    <tr>\n",
       "      <th>7</th>\n",
       "      <td>SHA-256</td>\n",
       "      <td>PoW</td>\n",
       "      <td>1.792718e+07</td>\n",
       "      <td>21000000</td>\n",
       "    </tr>\n",
       "    <tr>\n",
       "      <th>8</th>\n",
       "      <td>Ethash</td>\n",
       "      <td>PoW</td>\n",
       "      <td>1.076842e+08</td>\n",
       "      <td>0</td>\n",
       "    </tr>\n",
       "  </tbody>\n",
       "</table>\n",
       "</div>"
      ]
     },
     "metadata": {},
     "execution_count": 113
    }
   ],
   "metadata": {}
  },
  {
   "cell_type": "code",
   "execution_count": 114,
   "source": [
    "# Create dummy variables for text features\r\n",
    "crypto_df_enc = pd.get_dummies(data=crypto_df, columns=['Algorithm', 'ProofType'])\r\n",
    "crypto_df_enc.head()\r\n"
   ],
   "outputs": [
    {
     "output_type": "execute_result",
     "data": {
      "text/plain": [
       "   TotalCoinsMined TotalCoinSupply  Algorithm_1GB AES Pattern Search  \\\n",
       "0     4.199995e+01              42                                 0   \n",
       "2     1.055185e+09       532000000                                 0   \n",
       "5     2.927942e+10    314159265359                                 0   \n",
       "7     1.792718e+07        21000000                                 0   \n",
       "8     1.076842e+08               0                                 0   \n",
       "\n",
       "   Algorithm_536  Algorithm_Argon2d  Algorithm_BLAKE256  Algorithm_Blake  \\\n",
       "0              0                  0                   0                0   \n",
       "2              0                  0                   0                0   \n",
       "5              0                  0                   0                0   \n",
       "7              0                  0                   0                0   \n",
       "8              0                  0                   0                0   \n",
       "\n",
       "   Algorithm_Blake2S  Algorithm_Blake2b  Algorithm_C11  ...  \\\n",
       "0                  0                  0              0  ...   \n",
       "2                  0                  0              0  ...   \n",
       "5                  0                  0              0  ...   \n",
       "7                  0                  0              0  ...   \n",
       "8                  0                  0              0  ...   \n",
       "\n",
       "   ProofType_PoW/PoS  ProofType_PoW/PoS   ProofType_PoW/PoW  \\\n",
       "0                  1                   0                  0   \n",
       "2                  1                   0                  0   \n",
       "5                  1                   0                  0   \n",
       "7                  0                   0                  0   \n",
       "8                  0                   0                  0   \n",
       "\n",
       "   ProofType_PoW/nPoS  ProofType_Pos  ProofType_Proof of Authority  \\\n",
       "0                   0              0                             0   \n",
       "2                   0              0                             0   \n",
       "5                   0              0                             0   \n",
       "7                   0              0                             0   \n",
       "8                   0              0                             0   \n",
       "\n",
       "   ProofType_Proof of Trust  ProofType_TPoS  ProofType_Zero-Knowledge Proof  \\\n",
       "0                         0               0                               0   \n",
       "2                         0               0                               0   \n",
       "5                         0               0                               0   \n",
       "7                         0               0                               0   \n",
       "8                         0               0                               0   \n",
       "\n",
       "   ProofType_dPoW/PoW  \n",
       "0                   0  \n",
       "2                   0  \n",
       "5                   0  \n",
       "7                   0  \n",
       "8                   0  \n",
       "\n",
       "[5 rows x 98 columns]"
      ],
      "text/html": [
       "<div>\n",
       "<style scoped>\n",
       "    .dataframe tbody tr th:only-of-type {\n",
       "        vertical-align: middle;\n",
       "    }\n",
       "\n",
       "    .dataframe tbody tr th {\n",
       "        vertical-align: top;\n",
       "    }\n",
       "\n",
       "    .dataframe thead th {\n",
       "        text-align: right;\n",
       "    }\n",
       "</style>\n",
       "<table border=\"1\" class=\"dataframe\">\n",
       "  <thead>\n",
       "    <tr style=\"text-align: right;\">\n",
       "      <th></th>\n",
       "      <th>TotalCoinsMined</th>\n",
       "      <th>TotalCoinSupply</th>\n",
       "      <th>Algorithm_1GB AES Pattern Search</th>\n",
       "      <th>Algorithm_536</th>\n",
       "      <th>Algorithm_Argon2d</th>\n",
       "      <th>Algorithm_BLAKE256</th>\n",
       "      <th>Algorithm_Blake</th>\n",
       "      <th>Algorithm_Blake2S</th>\n",
       "      <th>Algorithm_Blake2b</th>\n",
       "      <th>Algorithm_C11</th>\n",
       "      <th>...</th>\n",
       "      <th>ProofType_PoW/PoS</th>\n",
       "      <th>ProofType_PoW/PoS</th>\n",
       "      <th>ProofType_PoW/PoW</th>\n",
       "      <th>ProofType_PoW/nPoS</th>\n",
       "      <th>ProofType_Pos</th>\n",
       "      <th>ProofType_Proof of Authority</th>\n",
       "      <th>ProofType_Proof of Trust</th>\n",
       "      <th>ProofType_TPoS</th>\n",
       "      <th>ProofType_Zero-Knowledge Proof</th>\n",
       "      <th>ProofType_dPoW/PoW</th>\n",
       "    </tr>\n",
       "  </thead>\n",
       "  <tbody>\n",
       "    <tr>\n",
       "      <th>0</th>\n",
       "      <td>4.199995e+01</td>\n",
       "      <td>42</td>\n",
       "      <td>0</td>\n",
       "      <td>0</td>\n",
       "      <td>0</td>\n",
       "      <td>0</td>\n",
       "      <td>0</td>\n",
       "      <td>0</td>\n",
       "      <td>0</td>\n",
       "      <td>0</td>\n",
       "      <td>...</td>\n",
       "      <td>1</td>\n",
       "      <td>0</td>\n",
       "      <td>0</td>\n",
       "      <td>0</td>\n",
       "      <td>0</td>\n",
       "      <td>0</td>\n",
       "      <td>0</td>\n",
       "      <td>0</td>\n",
       "      <td>0</td>\n",
       "      <td>0</td>\n",
       "    </tr>\n",
       "    <tr>\n",
       "      <th>2</th>\n",
       "      <td>1.055185e+09</td>\n",
       "      <td>532000000</td>\n",
       "      <td>0</td>\n",
       "      <td>0</td>\n",
       "      <td>0</td>\n",
       "      <td>0</td>\n",
       "      <td>0</td>\n",
       "      <td>0</td>\n",
       "      <td>0</td>\n",
       "      <td>0</td>\n",
       "      <td>...</td>\n",
       "      <td>1</td>\n",
       "      <td>0</td>\n",
       "      <td>0</td>\n",
       "      <td>0</td>\n",
       "      <td>0</td>\n",
       "      <td>0</td>\n",
       "      <td>0</td>\n",
       "      <td>0</td>\n",
       "      <td>0</td>\n",
       "      <td>0</td>\n",
       "    </tr>\n",
       "    <tr>\n",
       "      <th>5</th>\n",
       "      <td>2.927942e+10</td>\n",
       "      <td>314159265359</td>\n",
       "      <td>0</td>\n",
       "      <td>0</td>\n",
       "      <td>0</td>\n",
       "      <td>0</td>\n",
       "      <td>0</td>\n",
       "      <td>0</td>\n",
       "      <td>0</td>\n",
       "      <td>0</td>\n",
       "      <td>...</td>\n",
       "      <td>1</td>\n",
       "      <td>0</td>\n",
       "      <td>0</td>\n",
       "      <td>0</td>\n",
       "      <td>0</td>\n",
       "      <td>0</td>\n",
       "      <td>0</td>\n",
       "      <td>0</td>\n",
       "      <td>0</td>\n",
       "      <td>0</td>\n",
       "    </tr>\n",
       "    <tr>\n",
       "      <th>7</th>\n",
       "      <td>1.792718e+07</td>\n",
       "      <td>21000000</td>\n",
       "      <td>0</td>\n",
       "      <td>0</td>\n",
       "      <td>0</td>\n",
       "      <td>0</td>\n",
       "      <td>0</td>\n",
       "      <td>0</td>\n",
       "      <td>0</td>\n",
       "      <td>0</td>\n",
       "      <td>...</td>\n",
       "      <td>0</td>\n",
       "      <td>0</td>\n",
       "      <td>0</td>\n",
       "      <td>0</td>\n",
       "      <td>0</td>\n",
       "      <td>0</td>\n",
       "      <td>0</td>\n",
       "      <td>0</td>\n",
       "      <td>0</td>\n",
       "      <td>0</td>\n",
       "    </tr>\n",
       "    <tr>\n",
       "      <th>8</th>\n",
       "      <td>1.076842e+08</td>\n",
       "      <td>0</td>\n",
       "      <td>0</td>\n",
       "      <td>0</td>\n",
       "      <td>0</td>\n",
       "      <td>0</td>\n",
       "      <td>0</td>\n",
       "      <td>0</td>\n",
       "      <td>0</td>\n",
       "      <td>0</td>\n",
       "      <td>...</td>\n",
       "      <td>0</td>\n",
       "      <td>0</td>\n",
       "      <td>0</td>\n",
       "      <td>0</td>\n",
       "      <td>0</td>\n",
       "      <td>0</td>\n",
       "      <td>0</td>\n",
       "      <td>0</td>\n",
       "      <td>0</td>\n",
       "      <td>0</td>\n",
       "    </tr>\n",
       "  </tbody>\n",
       "</table>\n",
       "<p>5 rows × 98 columns</p>\n",
       "</div>"
      ]
     },
     "metadata": {},
     "execution_count": 114
    }
   ],
   "metadata": {}
  },
  {
   "cell_type": "code",
   "execution_count": 115,
   "source": [
    "# Standardize data\r\n",
    "from sklearn.preprocessing import StandardScaler\r\n",
    "crypto_scaled = StandardScaler().fit_transform(crypto_df_enc)\r\n",
    "\r\n",
    "print(\"Scaled\", crypto_scaled[0:5])\r\n"
   ],
   "outputs": [
    {
     "output_type": "stream",
     "name": "stdout",
     "text": [
      "Scaled [[-0.11710817 -0.1528703  -0.0433963  -0.0433963  -0.0433963  -0.06142951\n",
      "  -0.07530656 -0.0433963  -0.06142951 -0.06142951 -0.0433963  -0.0433963\n",
      "  -0.19245009 -0.06142951 -0.09740465 -0.0433963  -0.11547005 -0.07530656\n",
      "  -0.0433963  -0.0433963  -0.15191091 -0.0433963  -0.13118084 -0.0433963\n",
      "  -0.0433963  -0.08703883 -0.0433963  -0.0433963  -0.0433963  -0.0433963\n",
      "  -0.06142951 -0.0433963  -0.08703883 -0.08703883 -0.08703883 -0.0433963\n",
      "  -0.13118084 -0.13840913 -0.13840913 -0.0433963  -0.06142951 -0.0433963\n",
      "  -0.07530656 -0.18168574 -0.0433963  -0.0433963  -0.0433963  -0.07530656\n",
      "  -0.15826614 -0.31491833 -0.0433963  -0.08703883 -0.07530656 -0.06142951\n",
      "   1.38675049 -0.0433963  -0.0433963  -0.06142951 -0.0433963  -0.0433963\n",
      "  -0.0433963  -0.0433963  -0.0433963  -0.0433963  -0.0433963  -0.0433963\n",
      "  -0.39879994 -0.0433963  -0.18168574 -0.0433963  -0.08703883 -0.08703883\n",
      "  -0.10680283 -0.0433963  -0.13118084 -0.0433963  -0.0433963  -0.0433963\n",
      "  -0.0433963  -0.07530656 -0.43911856 -0.0433963  -0.06142951 -0.0433963\n",
      "  -0.0433963  -0.89632016 -0.0433963  -0.0433963   1.42222617 -0.0433963\n",
      "  -0.0433963  -0.0433963  -0.0433963  -0.0433963  -0.0433963  -0.0433963\n",
      "  -0.0433963  -0.0433963 ]\n",
      " [-0.09396955 -0.145009   -0.0433963  -0.0433963  -0.0433963  -0.06142951\n",
      "  -0.07530656 -0.0433963  -0.06142951 -0.06142951 -0.0433963  -0.0433963\n",
      "  -0.19245009 -0.06142951 -0.09740465 -0.0433963  -0.11547005 -0.07530656\n",
      "  -0.0433963  -0.0433963  -0.15191091 -0.0433963  -0.13118084 -0.0433963\n",
      "  -0.0433963  -0.08703883 -0.0433963  -0.0433963  -0.0433963  -0.0433963\n",
      "  -0.06142951 -0.0433963  -0.08703883 -0.08703883 -0.08703883 -0.0433963\n",
      "  -0.13118084 -0.13840913 -0.13840913 -0.0433963  -0.06142951 -0.0433963\n",
      "  -0.07530656 -0.18168574 -0.0433963  -0.0433963  -0.0433963  -0.07530656\n",
      "  -0.15826614 -0.31491833 -0.0433963  -0.08703883 -0.07530656 -0.06142951\n",
      "   1.38675049 -0.0433963  -0.0433963  -0.06142951 -0.0433963  -0.0433963\n",
      "  -0.0433963  -0.0433963  -0.0433963  -0.0433963  -0.0433963  -0.0433963\n",
      "  -0.39879994 -0.0433963  -0.18168574 -0.0433963  -0.08703883 -0.08703883\n",
      "  -0.10680283 -0.0433963  -0.13118084 -0.0433963  -0.0433963  -0.0433963\n",
      "  -0.0433963  -0.07530656 -0.43911856 -0.0433963  -0.06142951 -0.0433963\n",
      "  -0.0433963  -0.89632016 -0.0433963  -0.0433963   1.42222617 -0.0433963\n",
      "  -0.0433963  -0.0433963  -0.0433963  -0.0433963  -0.0433963  -0.0433963\n",
      "  -0.0433963  -0.0433963 ]\n",
      " [ 0.52494561  4.48942416 -0.0433963  -0.0433963  -0.0433963  -0.06142951\n",
      "  -0.07530656 -0.0433963  -0.06142951 -0.06142951 -0.0433963  -0.0433963\n",
      "  -0.19245009 -0.06142951 -0.09740465 -0.0433963  -0.11547005 -0.07530656\n",
      "  -0.0433963  -0.0433963  -0.15191091 -0.0433963  -0.13118084 -0.0433963\n",
      "  -0.0433963  -0.08703883 -0.0433963  -0.0433963  -0.0433963  -0.0433963\n",
      "  -0.06142951 -0.0433963  -0.08703883 -0.08703883 -0.08703883 -0.0433963\n",
      "  -0.13118084 -0.13840913 -0.13840913 -0.0433963  -0.06142951 -0.0433963\n",
      "  -0.07530656 -0.18168574 -0.0433963  -0.0433963  -0.0433963  -0.07530656\n",
      "  -0.15826614 -0.31491833 -0.0433963  -0.08703883 -0.07530656 -0.06142951\n",
      "  -0.72111026 -0.0433963  -0.0433963  -0.06142951 -0.0433963  -0.0433963\n",
      "  -0.0433963  -0.0433963  -0.0433963  -0.0433963  -0.0433963  -0.0433963\n",
      "  -0.39879994 -0.0433963   5.50400923 -0.0433963  -0.08703883 -0.08703883\n",
      "  -0.10680283 -0.0433963  -0.13118084 -0.0433963  -0.0433963  -0.0433963\n",
      "  -0.0433963  -0.07530656 -0.43911856 -0.0433963  -0.06142951 -0.0433963\n",
      "  -0.0433963  -0.89632016 -0.0433963  -0.0433963   1.42222617 -0.0433963\n",
      "  -0.0433963  -0.0433963  -0.0433963  -0.0433963  -0.0433963  -0.0433963\n",
      "  -0.0433963  -0.0433963 ]\n",
      " [-0.11671506 -0.15255998 -0.0433963  -0.0433963  -0.0433963  -0.06142951\n",
      "  -0.07530656 -0.0433963  -0.06142951 -0.06142951 -0.0433963  -0.0433963\n",
      "  -0.19245009 -0.06142951 -0.09740465 -0.0433963  -0.11547005 -0.07530656\n",
      "  -0.0433963  -0.0433963  -0.15191091 -0.0433963  -0.13118084 -0.0433963\n",
      "  -0.0433963  -0.08703883 -0.0433963  -0.0433963  -0.0433963  -0.0433963\n",
      "  -0.06142951 -0.0433963  -0.08703883 -0.08703883 -0.08703883 -0.0433963\n",
      "  -0.13118084 -0.13840913 -0.13840913 -0.0433963  -0.06142951 -0.0433963\n",
      "  -0.07530656 -0.18168574 -0.0433963  -0.0433963  -0.0433963  -0.07530656\n",
      "  -0.15826614  3.17542648 -0.0433963  -0.08703883 -0.07530656 -0.06142951\n",
      "  -0.72111026 -0.0433963  -0.0433963  -0.06142951 -0.0433963  -0.0433963\n",
      "  -0.0433963  -0.0433963  -0.0433963  -0.0433963  -0.0433963  -0.0433963\n",
      "  -0.39879994 -0.0433963  -0.18168574 -0.0433963  -0.08703883 -0.08703883\n",
      "  -0.10680283 -0.0433963  -0.13118084 -0.0433963  -0.0433963  -0.0433963\n",
      "  -0.0433963  -0.07530656 -0.43911856 -0.0433963  -0.06142951 -0.0433963\n",
      "  -0.0433963   1.11567277 -0.0433963  -0.0433963  -0.70312305 -0.0433963\n",
      "  -0.0433963  -0.0433963  -0.0433963  -0.0433963  -0.0433963  -0.0433963\n",
      "  -0.0433963  -0.0433963 ]\n",
      " [-0.11474682 -0.1528703  -0.0433963  -0.0433963  -0.0433963  -0.06142951\n",
      "  -0.07530656 -0.0433963  -0.06142951 -0.06142951 -0.0433963  -0.0433963\n",
      "  -0.19245009 -0.06142951 -0.09740465 -0.0433963  -0.11547005 -0.07530656\n",
      "  -0.0433963  -0.0433963  -0.15191091 -0.0433963   7.62306442 -0.0433963\n",
      "  -0.0433963  -0.08703883 -0.0433963  -0.0433963  -0.0433963  -0.0433963\n",
      "  -0.06142951 -0.0433963  -0.08703883 -0.08703883 -0.08703883 -0.0433963\n",
      "  -0.13118084 -0.13840913 -0.13840913 -0.0433963  -0.06142951 -0.0433963\n",
      "  -0.07530656 -0.18168574 -0.0433963  -0.0433963  -0.0433963  -0.07530656\n",
      "  -0.15826614 -0.31491833 -0.0433963  -0.08703883 -0.07530656 -0.06142951\n",
      "  -0.72111026 -0.0433963  -0.0433963  -0.06142951 -0.0433963  -0.0433963\n",
      "  -0.0433963  -0.0433963  -0.0433963  -0.0433963  -0.0433963  -0.0433963\n",
      "  -0.39879994 -0.0433963  -0.18168574 -0.0433963  -0.08703883 -0.08703883\n",
      "  -0.10680283 -0.0433963  -0.13118084 -0.0433963  -0.0433963  -0.0433963\n",
      "  -0.0433963  -0.07530656 -0.43911856 -0.0433963  -0.06142951 -0.0433963\n",
      "  -0.0433963   1.11567277 -0.0433963  -0.0433963  -0.70312305 -0.0433963\n",
      "  -0.0433963  -0.0433963  -0.0433963  -0.0433963  -0.0433963  -0.0433963\n",
      "  -0.0433963  -0.0433963 ]]\n"
     ]
    }
   ],
   "metadata": {}
  },
  {
   "cell_type": "markdown",
   "source": [
    "### Reducing Dimensions Using PCA"
   ],
   "metadata": {}
  },
  {
   "cell_type": "code",
   "execution_count": 116,
   "source": [
    "# Use PCA to reduce dimensions to 3 principal components\r\n",
    "pca = PCA(n_components=3)\r\n",
    "\r\n",
    "crypto_pca = pca.fit_transform(crypto_scaled)"
   ],
   "outputs": [],
   "metadata": {}
  },
  {
   "cell_type": "code",
   "execution_count": 117,
   "source": [
    "# Create a DataFrame with the principal components data\r\n",
    "df_crypto_pca = pd.DataFrame(\r\n",
    "    data = crypto_pca\r\n",
    "    , columns=[f\"Principal Component {x}\" for x in range(1,4)]\r\n",
    ")\r\n",
    "df_crypto_pca.head()"
   ],
   "outputs": [
    {
     "output_type": "execute_result",
     "data": {
      "text/plain": [
       "   Principal Component 1  Principal Component 2  Principal Component 3\n",
       "0              -0.316153               1.030320              -0.573882\n",
       "1              -0.299451               1.030535              -0.574254\n",
       "2               2.305465               1.652208              -0.619858\n",
       "3              -0.152958              -1.322305               0.207718\n",
       "4              -0.165774              -2.022585               0.404120"
      ],
      "text/html": [
       "<div>\n",
       "<style scoped>\n",
       "    .dataframe tbody tr th:only-of-type {\n",
       "        vertical-align: middle;\n",
       "    }\n",
       "\n",
       "    .dataframe tbody tr th {\n",
       "        vertical-align: top;\n",
       "    }\n",
       "\n",
       "    .dataframe thead th {\n",
       "        text-align: right;\n",
       "    }\n",
       "</style>\n",
       "<table border=\"1\" class=\"dataframe\">\n",
       "  <thead>\n",
       "    <tr style=\"text-align: right;\">\n",
       "      <th></th>\n",
       "      <th>Principal Component 1</th>\n",
       "      <th>Principal Component 2</th>\n",
       "      <th>Principal Component 3</th>\n",
       "    </tr>\n",
       "  </thead>\n",
       "  <tbody>\n",
       "    <tr>\n",
       "      <th>0</th>\n",
       "      <td>-0.316153</td>\n",
       "      <td>1.030320</td>\n",
       "      <td>-0.573882</td>\n",
       "    </tr>\n",
       "    <tr>\n",
       "      <th>1</th>\n",
       "      <td>-0.299451</td>\n",
       "      <td>1.030535</td>\n",
       "      <td>-0.574254</td>\n",
       "    </tr>\n",
       "    <tr>\n",
       "      <th>2</th>\n",
       "      <td>2.305465</td>\n",
       "      <td>1.652208</td>\n",
       "      <td>-0.619858</td>\n",
       "    </tr>\n",
       "    <tr>\n",
       "      <th>3</th>\n",
       "      <td>-0.152958</td>\n",
       "      <td>-1.322305</td>\n",
       "      <td>0.207718</td>\n",
       "    </tr>\n",
       "    <tr>\n",
       "      <th>4</th>\n",
       "      <td>-0.165774</td>\n",
       "      <td>-2.022585</td>\n",
       "      <td>0.404120</td>\n",
       "    </tr>\n",
       "  </tbody>\n",
       "</table>\n",
       "</div>"
      ]
     },
     "metadata": {},
     "execution_count": 117
    }
   ],
   "metadata": {}
  },
  {
   "cell_type": "markdown",
   "source": [
    "### Clustering Crytocurrencies Using K-Means\n",
    "\n",
    "#### Finding the Best Value for `k` Using the Elbow Curve"
   ],
   "metadata": {}
  },
  {
   "cell_type": "code",
   "execution_count": 118,
   "source": [
    "inertia = []\r\n",
    "k = list(range(1, 11))\r\n",
    "\r\n",
    "# Calculate the inertia for the range of k values\r\n",
    "for i in k:\r\n",
    "    x = KMeans(n_clusters=i, random_state=0)\r\n",
    "    x.fit(df_crypto_pca)\r\n",
    "    inertia.append(x.inertia_)\r\n",
    "\r\n",
    "\r\n",
    "\r\n",
    "# Create the Elbow Curve using hvPlot\r\n",
    "lbow_data = {\"k\":k, \"inertia\":inertia}\r\n",
    "df_lbow = pd.DataFrame(lbow_data)\r\n",
    "df_lbow.hvplot(\r\n",
    "    x=\"k\"\r\n",
    "    , y=\"inertia\"\r\n",
    "    , xticks=k\r\n",
    "    , title=\"Cryto Currency Elbow Curce\"\r\n",
    ")\r\n"
   ],
   "outputs": [
    {
     "output_type": "display_data",
     "data": {},
     "metadata": {}
    },
    {
     "output_type": "execute_result",
     "data": {
      "application/vnd.holoviews_exec.v0+json": "",
      "text/plain": [
       ":Curve   [k]   (inertia)"
      ],
      "text/html": [
       "<div id='1408'>\n",
       "\n",
       "\n",
       "\n",
       "\n",
       "\n",
       "  <div class=\"bk-root\" id=\"76d1affe-95d4-406a-a378-553641306dee\" data-root-id=\"1408\"></div>\n",
       "</div>\n",
       "<script type=\"application/javascript\">(function(root) {\n",
       "  function embed_document(root) {\n",
       "    var docs_json = {\"3e1293b3-4445-4936-9c88-09c0258ccaf7\":{\"defs\":[],\"roots\":{\"references\":[{\"attributes\":{},\"id\":\"1468\",\"type\":\"UnionRenderers\"},{\"attributes\":{},\"id\":\"1444\",\"type\":\"Selection\"},{\"attributes\":{\"callback\":null,\"renderers\":[{\"id\":\"1449\"}],\"tags\":[\"hv_created\"],\"tooltips\":[[\"k\",\"@{k}\"],[\"inertia\",\"@{inertia}\"]]},\"id\":\"1412\",\"type\":\"HoverTool\"},{\"attributes\":{\"text\":\"Cryto Currency Elbow Curce\",\"text_color\":\"black\",\"text_font_size\":\"12pt\"},\"id\":\"1414\",\"type\":\"Title\"},{\"attributes\":{\"below\":[{\"id\":\"1422\"}],\"center\":[{\"id\":\"1425\"},{\"id\":\"1429\"}],\"height\":300,\"left\":[{\"id\":\"1426\"}],\"margin\":[5,5,5,5],\"min_border_bottom\":10,\"min_border_left\":10,\"min_border_right\":10,\"min_border_top\":10,\"renderers\":[{\"id\":\"1449\"}],\"sizing_mode\":\"fixed\",\"title\":{\"id\":\"1414\"},\"toolbar\":{\"id\":\"1436\"},\"width\":700,\"x_range\":{\"id\":\"1410\"},\"x_scale\":{\"id\":\"1418\"},\"y_range\":{\"id\":\"1411\"},\"y_scale\":{\"id\":\"1420\"}},\"id\":\"1413\",\"subtype\":\"Figure\",\"type\":\"Plot\"},{\"attributes\":{\"ticks\":[1,2,3,4,5,6,7,8,9,10]},\"id\":\"1452\",\"type\":\"FixedTicker\"},{\"attributes\":{},\"id\":\"1455\",\"type\":\"BasicTickFormatter\"},{\"attributes\":{},\"id\":\"1453\",\"type\":\"AllLabels\"},{\"attributes\":{},\"id\":\"1431\",\"type\":\"PanTool\"},{\"attributes\":{\"margin\":[5,5,5,5],\"name\":\"HSpacer02438\",\"sizing_mode\":\"stretch_width\"},\"id\":\"1479\",\"type\":\"Spacer\"},{\"attributes\":{\"active_multi\":null,\"tools\":[{\"id\":\"1412\"},{\"id\":\"1430\"},{\"id\":\"1431\"},{\"id\":\"1432\"},{\"id\":\"1433\"},{\"id\":\"1434\"}]},\"id\":\"1436\",\"type\":\"Toolbar\"},{\"attributes\":{},\"id\":\"1418\",\"type\":\"LinearScale\"},{\"attributes\":{},\"id\":\"1420\",\"type\":\"LinearScale\"},{\"attributes\":{},\"id\":\"1458\",\"type\":\"AllLabels\"},{\"attributes\":{\"margin\":[5,5,5,5],\"name\":\"HSpacer02437\",\"sizing_mode\":\"stretch_width\"},\"id\":\"1409\",\"type\":\"Spacer\"},{\"attributes\":{\"axis_label\":\"k\",\"formatter\":{\"id\":\"1455\"},\"major_label_policy\":{\"id\":\"1453\"},\"ticker\":{\"id\":\"1452\"}},\"id\":\"1422\",\"type\":\"LinearAxis\"},{\"attributes\":{\"axis\":{\"id\":\"1422\"},\"grid_line_color\":null,\"ticker\":null},\"id\":\"1425\",\"type\":\"Grid\"},{\"attributes\":{\"bottom_units\":\"screen\",\"fill_alpha\":0.5,\"fill_color\":\"lightgrey\",\"left_units\":\"screen\",\"level\":\"overlay\",\"line_alpha\":1.0,\"line_color\":\"black\",\"line_dash\":[4,4],\"line_width\":2,\"right_units\":\"screen\",\"syncable\":false,\"top_units\":\"screen\"},\"id\":\"1435\",\"type\":\"BoxAnnotation\"},{\"attributes\":{\"axis\":{\"id\":\"1426\"},\"dimension\":1,\"grid_line_color\":null,\"ticker\":null},\"id\":\"1429\",\"type\":\"Grid\"},{\"attributes\":{},\"id\":\"1460\",\"type\":\"BasicTickFormatter\"},{\"attributes\":{\"axis_label\":\"inertia\",\"formatter\":{\"id\":\"1460\"},\"major_label_policy\":{\"id\":\"1458\"},\"ticker\":{\"id\":\"1427\"}},\"id\":\"1426\",\"type\":\"LinearAxis\"},{\"attributes\":{},\"id\":\"1427\",\"type\":\"BasicTicker\"},{\"attributes\":{},\"id\":\"1432\",\"type\":\"WheelZoomTool\"},{\"attributes\":{},\"id\":\"1430\",\"type\":\"SaveTool\"},{\"attributes\":{\"overlay\":{\"id\":\"1435\"}},\"id\":\"1433\",\"type\":\"BoxZoomTool\"},{\"attributes\":{},\"id\":\"1434\",\"type\":\"ResetTool\"},{\"attributes\":{\"children\":[{\"id\":\"1409\"},{\"id\":\"1413\"},{\"id\":\"1479\"}],\"margin\":[0,0,0,0],\"name\":\"Row02433\",\"tags\":[\"embedded\"]},\"id\":\"1408\",\"type\":\"Row\"},{\"attributes\":{\"end\":3995.022134331655,\"reset_end\":3995.022134331655,\"reset_start\":-249.35717891112014,\"start\":-249.35717891112014,\"tags\":[[[\"inertia\",\"inertia\",null]]]},\"id\":\"1411\",\"type\":\"Range1d\"},{\"attributes\":{\"end\":10.0,\"reset_end\":10.0,\"reset_start\":1.0,\"start\":1.0,\"tags\":[[[\"k\",\"k\",null]]]},\"id\":\"1410\",\"type\":\"Range1d\"},{\"attributes\":{\"data_source\":{\"id\":\"1443\"},\"glyph\":{\"id\":\"1446\"},\"hover_glyph\":null,\"muted_glyph\":{\"id\":\"1448\"},\"nonselection_glyph\":{\"id\":\"1447\"},\"selection_glyph\":{\"id\":\"1451\"},\"view\":{\"id\":\"1450\"}},\"id\":\"1449\",\"type\":\"GlyphRenderer\"},{\"attributes\":{\"source\":{\"id\":\"1443\"}},\"id\":\"1450\",\"type\":\"CDSView\"},{\"attributes\":{\"data\":{\"inertia\":{\"__ndarray__\":\"YOS+0KVyrEBkYgLVHVKjQL7K4WjWFJdAAZirMkxUgEBFVqEwi/50QLdMfjpc4HBA1HHNww7caUAzvPR6rVhkQIHsGZWgeGBAmpNRidQVWkA=\",\"dtype\":\"float64\",\"order\":\"little\",\"shape\":[10]},\"k\":[1,2,3,4,5,6,7,8,9,10]},\"selected\":{\"id\":\"1444\"},\"selection_policy\":{\"id\":\"1468\"}},\"id\":\"1443\",\"type\":\"ColumnDataSource\"},{\"attributes\":{\"line_color\":\"#30a2da\",\"line_width\":2,\"x\":{\"field\":\"k\"},\"y\":{\"field\":\"inertia\"}},\"id\":\"1451\",\"type\":\"Line\"},{\"attributes\":{\"line_alpha\":0.1,\"line_color\":\"#30a2da\",\"line_width\":2,\"x\":{\"field\":\"k\"},\"y\":{\"field\":\"inertia\"}},\"id\":\"1447\",\"type\":\"Line\"},{\"attributes\":{\"line_color\":\"#30a2da\",\"line_width\":2,\"x\":{\"field\":\"k\"},\"y\":{\"field\":\"inertia\"}},\"id\":\"1446\",\"type\":\"Line\"},{\"attributes\":{\"line_alpha\":0.2,\"line_color\":\"#30a2da\",\"line_width\":2,\"x\":{\"field\":\"k\"},\"y\":{\"field\":\"inertia\"}},\"id\":\"1448\",\"type\":\"Line\"}],\"root_ids\":[\"1408\"]},\"title\":\"Bokeh Application\",\"version\":\"2.3.2\"}};\n",
       "    var render_items = [{\"docid\":\"3e1293b3-4445-4936-9c88-09c0258ccaf7\",\"root_ids\":[\"1408\"],\"roots\":{\"1408\":\"76d1affe-95d4-406a-a378-553641306dee\"}}];\n",
       "    root.Bokeh.embed.embed_items_notebook(docs_json, render_items);\n",
       "  }\n",
       "  if (root.Bokeh !== undefined && root.Bokeh.Panel !== undefined) {\n",
       "    embed_document(root);\n",
       "  } else {\n",
       "    var attempts = 0;\n",
       "    var timer = setInterval(function(root) {\n",
       "      if (root.Bokeh !== undefined && root.Bokeh.Panel !== undefined) {\n",
       "        clearInterval(timer);\n",
       "        embed_document(root);\n",
       "      } else if (document.readyState == \"complete\") {\n",
       "        attempts++;\n",
       "        if (attempts > 100) {\n",
       "          clearInterval(timer);\n",
       "          console.log(\"Bokeh: ERROR: Unable to run BokehJS code because BokehJS library is missing\");\n",
       "        }\n",
       "      }\n",
       "    }, 10, root)\n",
       "  }\n",
       "})(window);</script>"
      ]
     },
     "metadata": {
      "application/vnd.holoviews_exec.v0+json": {
       "id": "1408"
      }
     },
     "execution_count": 118
    }
   ],
   "metadata": {}
  },
  {
   "cell_type": "markdown",
   "source": [
    "Running K-Means with `k=<your best value for k here>`"
   ],
   "metadata": {}
  },
  {
   "cell_type": "code",
   "execution_count": 119,
   "source": [
    "# Initialize the K-Means model\r\n",
    "mdl = KMeans(n_clusters=4, random_state=0)\r\n",
    "\r\n",
    "# Fit the model\r\n",
    "mdl.fit(df_crypto_pca)\r\n",
    "\r\n",
    "# Predict clusters\r\n",
    "predict = mdl.predict(df_crypto_pca)\r\n",
    "\r\n",
    "# Create a new DataFrame including predicted clusters and cryptocurrencies features\r\n",
    "df_crypto_pca[\"class\"] = mdl.labels_\r\n",
    "df_result = coin_name_df.join(crypto_df).join(df_crypto_pca)\r\n",
    "df_result\r\n",
    "# df_result.to_csv(\"./CheckTheFile.csv\")\r\n",
    "# coin_name_df.shape,crypto_df.shape,df_crypto_pca.shape\r\n",
    "# df_crypto_pca\r\n"
   ],
   "outputs": [
    {
     "output_type": "execute_result",
     "data": {
      "text/plain": [
       "         CoinName    Algorithm ProofType  TotalCoinsMined TotalCoinSupply  \\\n",
       "0         42 Coin       Scrypt   PoW/PoS     4.199995e+01              42   \n",
       "2         404Coin       Scrypt   PoW/PoS     1.055185e+09       532000000   \n",
       "5       EliteCoin          X13   PoW/PoS     2.927942e+10    314159265359   \n",
       "7         Bitcoin      SHA-256       PoW     1.792718e+07        21000000   \n",
       "8        Ethereum       Ethash       PoW     1.076842e+08               0   \n",
       "...           ...          ...       ...              ...             ...   \n",
       "1238       ZEPHYR      SHA-256      DPoS     2.000000e+09      2000000000   \n",
       "1242      Gapcoin       Scrypt   PoW/PoS     1.493105e+07       250000000   \n",
       "1245       Beldex  CryptoNight       PoW     9.802226e+08      1400222610   \n",
       "1246      Horizen     Equihash       PoW     7.296538e+06        21000000   \n",
       "1247  BitcoinPlus       Scrypt       PoS     1.283270e+05         1000000   \n",
       "\n",
       "      Principal Component 1  Principal Component 2  Principal Component 3  \\\n",
       "0                 -0.316153               1.030320              -0.573882   \n",
       "2                  2.305465               1.652208              -0.619858   \n",
       "5                 -0.148425              -1.120938              -0.029950   \n",
       "7                 -0.158365              -2.280507               0.402612   \n",
       "8                 -0.164213              -2.022680               0.404103   \n",
       "...                     ...                    ...                    ...   \n",
       "1238                    NaN                    NaN                    NaN   \n",
       "1242                    NaN                    NaN                    NaN   \n",
       "1245                    NaN                    NaN                    NaN   \n",
       "1246                    NaN                    NaN                    NaN   \n",
       "1247                    NaN                    NaN                    NaN   \n",
       "\n",
       "      class  \n",
       "0       0.0  \n",
       "2       0.0  \n",
       "5       2.0  \n",
       "7       2.0  \n",
       "8       2.0  \n",
       "...     ...  \n",
       "1238    NaN  \n",
       "1242    NaN  \n",
       "1245    NaN  \n",
       "1246    NaN  \n",
       "1247    NaN  \n",
       "\n",
       "[532 rows x 9 columns]"
      ],
      "text/html": [
       "<div>\n",
       "<style scoped>\n",
       "    .dataframe tbody tr th:only-of-type {\n",
       "        vertical-align: middle;\n",
       "    }\n",
       "\n",
       "    .dataframe tbody tr th {\n",
       "        vertical-align: top;\n",
       "    }\n",
       "\n",
       "    .dataframe thead th {\n",
       "        text-align: right;\n",
       "    }\n",
       "</style>\n",
       "<table border=\"1\" class=\"dataframe\">\n",
       "  <thead>\n",
       "    <tr style=\"text-align: right;\">\n",
       "      <th></th>\n",
       "      <th>CoinName</th>\n",
       "      <th>Algorithm</th>\n",
       "      <th>ProofType</th>\n",
       "      <th>TotalCoinsMined</th>\n",
       "      <th>TotalCoinSupply</th>\n",
       "      <th>Principal Component 1</th>\n",
       "      <th>Principal Component 2</th>\n",
       "      <th>Principal Component 3</th>\n",
       "      <th>class</th>\n",
       "    </tr>\n",
       "  </thead>\n",
       "  <tbody>\n",
       "    <tr>\n",
       "      <th>0</th>\n",
       "      <td>42 Coin</td>\n",
       "      <td>Scrypt</td>\n",
       "      <td>PoW/PoS</td>\n",
       "      <td>4.199995e+01</td>\n",
       "      <td>42</td>\n",
       "      <td>-0.316153</td>\n",
       "      <td>1.030320</td>\n",
       "      <td>-0.573882</td>\n",
       "      <td>0.0</td>\n",
       "    </tr>\n",
       "    <tr>\n",
       "      <th>2</th>\n",
       "      <td>404Coin</td>\n",
       "      <td>Scrypt</td>\n",
       "      <td>PoW/PoS</td>\n",
       "      <td>1.055185e+09</td>\n",
       "      <td>532000000</td>\n",
       "      <td>2.305465</td>\n",
       "      <td>1.652208</td>\n",
       "      <td>-0.619858</td>\n",
       "      <td>0.0</td>\n",
       "    </tr>\n",
       "    <tr>\n",
       "      <th>5</th>\n",
       "      <td>EliteCoin</td>\n",
       "      <td>X13</td>\n",
       "      <td>PoW/PoS</td>\n",
       "      <td>2.927942e+10</td>\n",
       "      <td>314159265359</td>\n",
       "      <td>-0.148425</td>\n",
       "      <td>-1.120938</td>\n",
       "      <td>-0.029950</td>\n",
       "      <td>2.0</td>\n",
       "    </tr>\n",
       "    <tr>\n",
       "      <th>7</th>\n",
       "      <td>Bitcoin</td>\n",
       "      <td>SHA-256</td>\n",
       "      <td>PoW</td>\n",
       "      <td>1.792718e+07</td>\n",
       "      <td>21000000</td>\n",
       "      <td>-0.158365</td>\n",
       "      <td>-2.280507</td>\n",
       "      <td>0.402612</td>\n",
       "      <td>2.0</td>\n",
       "    </tr>\n",
       "    <tr>\n",
       "      <th>8</th>\n",
       "      <td>Ethereum</td>\n",
       "      <td>Ethash</td>\n",
       "      <td>PoW</td>\n",
       "      <td>1.076842e+08</td>\n",
       "      <td>0</td>\n",
       "      <td>-0.164213</td>\n",
       "      <td>-2.022680</td>\n",
       "      <td>0.404103</td>\n",
       "      <td>2.0</td>\n",
       "    </tr>\n",
       "    <tr>\n",
       "      <th>...</th>\n",
       "      <td>...</td>\n",
       "      <td>...</td>\n",
       "      <td>...</td>\n",
       "      <td>...</td>\n",
       "      <td>...</td>\n",
       "      <td>...</td>\n",
       "      <td>...</td>\n",
       "      <td>...</td>\n",
       "      <td>...</td>\n",
       "    </tr>\n",
       "    <tr>\n",
       "      <th>1238</th>\n",
       "      <td>ZEPHYR</td>\n",
       "      <td>SHA-256</td>\n",
       "      <td>DPoS</td>\n",
       "      <td>2.000000e+09</td>\n",
       "      <td>2000000000</td>\n",
       "      <td>NaN</td>\n",
       "      <td>NaN</td>\n",
       "      <td>NaN</td>\n",
       "      <td>NaN</td>\n",
       "    </tr>\n",
       "    <tr>\n",
       "      <th>1242</th>\n",
       "      <td>Gapcoin</td>\n",
       "      <td>Scrypt</td>\n",
       "      <td>PoW/PoS</td>\n",
       "      <td>1.493105e+07</td>\n",
       "      <td>250000000</td>\n",
       "      <td>NaN</td>\n",
       "      <td>NaN</td>\n",
       "      <td>NaN</td>\n",
       "      <td>NaN</td>\n",
       "    </tr>\n",
       "    <tr>\n",
       "      <th>1245</th>\n",
       "      <td>Beldex</td>\n",
       "      <td>CryptoNight</td>\n",
       "      <td>PoW</td>\n",
       "      <td>9.802226e+08</td>\n",
       "      <td>1400222610</td>\n",
       "      <td>NaN</td>\n",
       "      <td>NaN</td>\n",
       "      <td>NaN</td>\n",
       "      <td>NaN</td>\n",
       "    </tr>\n",
       "    <tr>\n",
       "      <th>1246</th>\n",
       "      <td>Horizen</td>\n",
       "      <td>Equihash</td>\n",
       "      <td>PoW</td>\n",
       "      <td>7.296538e+06</td>\n",
       "      <td>21000000</td>\n",
       "      <td>NaN</td>\n",
       "      <td>NaN</td>\n",
       "      <td>NaN</td>\n",
       "      <td>NaN</td>\n",
       "    </tr>\n",
       "    <tr>\n",
       "      <th>1247</th>\n",
       "      <td>BitcoinPlus</td>\n",
       "      <td>Scrypt</td>\n",
       "      <td>PoS</td>\n",
       "      <td>1.283270e+05</td>\n",
       "      <td>1000000</td>\n",
       "      <td>NaN</td>\n",
       "      <td>NaN</td>\n",
       "      <td>NaN</td>\n",
       "      <td>NaN</td>\n",
       "    </tr>\n",
       "  </tbody>\n",
       "</table>\n",
       "<p>532 rows × 9 columns</p>\n",
       "</div>"
      ]
     },
     "metadata": {},
     "execution_count": 119
    }
   ],
   "metadata": {}
  },
  {
   "cell_type": "markdown",
   "source": [
    "### Visualizing Results\n",
    "\n",
    "#### 3D-Scatter with Clusters"
   ],
   "metadata": {}
  },
  {
   "cell_type": "code",
   "execution_count": 120,
   "source": [
    "# Create a 3D-Scatter with the PCA data and the clusters\r\n",
    "fig = px.scatter_3d(\r\n",
    "    df_result.dropna()\r\n",
    "    , x=\"Principal Component 1\"\r\n",
    "    , y=\"Principal Component 2\"\r\n",
    "    , z=\"Principal Component 3\"\r\n",
    "    , symbol=\"class\", color=\"class\"\r\n",
    ")\r\n",
    "fig.show()\r\n"
   ],
   "outputs": [
    {
     "output_type": "display_data",
     "data": {
      "application/vnd.plotly.v1+json": {
       "config": {
        "plotlyServerURL": "https://plot.ly"
       },
       "data": [
        {
         "hovertemplate": "class=%{marker.color}<br>Principal Component 1=%{x}<br>Principal Component 2=%{y}<br>Principal Component 3=%{z}<extra></extra>",
         "legendgroup": "0.0",
         "marker": {
          "color": [
           0,
           0,
           0,
           0,
           0,
           0,
           0,
           0,
           0,
           0,
           0,
           0,
           0,
           0,
           0,
           0,
           0,
           0,
           0,
           0,
           0,
           0,
           0,
           0,
           0,
           0,
           0,
           0,
           0,
           0,
           0,
           0,
           0,
           0,
           0,
           0,
           0,
           0,
           0,
           0,
           0,
           0,
           0,
           0,
           0,
           0,
           0,
           0,
           0,
           0,
           0,
           0,
           0,
           0,
           0,
           0,
           0,
           0,
           0,
           0,
           0,
           0,
           0,
           0,
           0,
           0,
           0,
           0,
           0,
           0,
           0,
           0,
           0,
           0,
           0,
           0,
           0,
           0,
           0,
           0,
           0,
           0,
           0,
           0,
           0,
           0,
           0,
           0,
           0,
           0,
           0,
           0,
           0,
           0,
           0,
           0,
           0,
           0,
           0,
           0,
           0,
           0,
           0,
           0,
           0
          ],
          "coloraxis": "coloraxis",
          "symbol": "circle"
         },
         "mode": "markers",
         "name": "0.0",
         "scene": "scene",
         "showlegend": true,
         "type": "scatter3d",
         "x": [
          -0.31615295433256946,
          2.3054651021350634,
          -0.363067507355916,
          -0.31951319776265885,
          -0.27627660854898517,
          -0.24716338046239175,
          -0.3083714091487153,
          -0.3524109709014666,
          -0.31420725484055567,
          -0.3513850240356987,
          -0.4147410782017185,
          -0.28273512706198384,
          -0.27266689721592924,
          -0.37131958628656286,
          -0.41511350859898133,
          -0.3236275534509203,
          -0.4150249522535109,
          -0.2532952170828825,
          0.3485993412924172,
          -0.32872282024414917,
          -0.26728907827891907,
          -0.31613497962964665,
          -0.2848239434176148,
          -0.31586875489368504,
          -0.4187480812231444,
          -0.42793792802862624,
          -0.3120536472214059,
          -0.0926966303033024,
          -0.3194840415773966,
          -0.09183070768770574,
          -0.3157443735065766,
          0.08654382177549051,
          -0.31575145735533744,
          -0.3157825670540416,
          -0.3142179014420149,
          -0.24032683678070524,
          -0.4145677159303366,
          -0.31498495278059613,
          -0.31952879401029277,
          -0.31597214526347095,
          -0.3161291988221816,
          -0.2709030455742817,
          -0.35104817211808365,
          -0.31574242536849956,
          -0.4012157538998174,
          -0.24176055097277696,
          -0.35012391721896685,
          -0.2909384514275918,
          0.8500710995784712,
          -0.351512999012592,
          -0.31582457608490766,
          -0.3193911341265414,
          -0.4396113859866227,
          -0.31502733731030963,
          0.3720994976355386,
          -0.3160180681868173,
          -0.3160887928474566,
          -0.360796973323697,
          -0.31230731524964506,
          -0.3195051508365076,
          -0.3159933599406235,
          -0.2415278660383137,
          -0.2968024181125038,
          -0.41297725117010825,
          -0.3503359966103082,
          -0.3090425230622551,
          -0.2551570747363275,
          0.5744613712680385,
          -0.3564391093045369,
          -0.284508312780816,
          -0.2726277770804171,
          -0.4148327767432324,
          -0.32753800575215547,
          -0.31784757027081745,
          -0.34117128029044325,
          -0.34592437745476967,
          -0.31584751520585896,
          -0.10235747684514745,
          -0.4136227209215079,
          3.6592903649820876,
          -0.28124239154524355,
          -0.3133020008880385,
          -0.3130291379885846,
          -0.3149842028789594,
          -0.35984550581828995,
          -0.31609386739989076,
          -0.3717374011754508,
          -0.22876515362742236,
          -0.3116287745337881,
          -0.41490937468780603,
          -0.26615444611557404,
          -0.4010731624799299,
          -0.2723212644555771,
          -0.35638127617196824,
          0.9800516037029063,
          -0.3706391343802465,
          -0.359512999255118,
          -0.2698131676696227,
          -0.17529495429703362,
          -0.40338923347771855,
          -0.3717918448614897,
          -0.33633834857889705,
          -0.3110172168499646,
          -0.25716177298500736,
          -0.3374766870685365
         ],
         "y": [
          1.0303203901163822,
          1.6522083139300447,
          1.4532541082771548,
          0.8289344061420607,
          0.6360180832309864,
          1.8644054235098861,
          1.0305972519922353,
          1.5721097383003309,
          1.0303039857240703,
          1.0546038402044364,
          1.2467954069564169,
          0.8285323212691058,
          0.8373946180861361,
          1.0538945826506676,
          1.2467978544556697,
          1.5923046086372115,
          1.2467938700221595,
          0.09860048730016778,
          1.3644196236237345,
          1.5660380688124802,
          0.8372407070317093,
          1.030321029673505,
          1.784222039732457,
          1.0303162299225153,
          1.8424335501562616,
          0.9569318918237402,
          0.8285019187770344,
          0.8563860031415036,
          0.8289354434984059,
          1.239354162675882,
          1.0303049563022226,
          0.659692912010961,
          0.8287093094698991,
          1.0303019323554448,
          1.0303178787633998,
          1.5912082035527582,
          1.246781594489815,
          1.0302977235409763,
          0.8289345648305492,
          1.0303118377747646,
          1.0303212353505249,
          0.8374689205904694,
          1.572105419912243,
          1.0303349964750568,
          1.2462219395637208,
          1.5912981273312001,
          1.5719763188850222,
          1.8044943790376338,
          1.824001381396708,
          1.5721060079071831,
          1.0303021027515005,
          0.8289401762632451,
          0.8369607302796795,
          1.030257681567369,
          0.837144112909959,
          1.0303159126049342,
          1.0303203068462357,
          1.496853560722866,
          1.0301004193051029,
          0.8289354060378649,
          1.0303104169527708,
          1.591297825347721,
          1.030295276577068,
          1.2467953665818283,
          1.572104862339366,
          1.0298597823442237,
          0.836601967255258,
          1.8207735317523681,
          1.5033953258962731,
          1.7842189978082967,
          0.8373951351667291,
          1.2467885764280362,
          0.6047911938572098,
          0.8289380078165762,
          1.5030893700474321,
          1.594893267010604,
          1.0303207046595055,
          0.635792595171259,
          1.246748139102597,
          1.7611305870767913,
          1.7842067504236052,
          1.0302719707458878,
          1.3104657505938646,
          1.0302549347084202,
          1.4968124861116618,
          1.0303196380498454,
          1.053864731664205,
          0.37281681581110143,
          1.0303158039284808,
          1.2467872783114045,
          0.8372810764374917,
          1.6897499771864346,
          0.8373999079816655,
          1.4965575372370334,
          1.6294265915645059,
          0.7976987781136738,
          1.4968385882966475,
          0.8373221637796094,
          1.0224873635973177,
          1.689771757443025,
          1.0538637222660185,
          1.502563120941326,
          1.8055682521190137,
          0.6359935034985639,
          1.7084056909288816
         ],
         "z": [
          -0.5738823467827647,
          -0.6198581289152926,
          -0.19081305390952616,
          -0.33623508675391883,
          -0.05813634458802146,
          -0.60962682598995,
          -0.5740828131406004,
          -0.10548804677811523,
          -0.5739192681821639,
          -0.2252794347784488,
          -0.5028584886381301,
          -0.3369187976745626,
          -0.29578720585738666,
          -0.22476588523232166,
          -0.5028513146610543,
          -0.25768885270396047,
          -0.5028524958671775,
          0.05154187530614216,
          0.4666337589710864,
          -0.1659679488690958,
          -0.295872514623437,
          -0.5738828098474942,
          -0.5876926651383603,
          -0.5738874677234187,
          -0.6250848447774865,
          -0.28602671656145506,
          -0.3363196513708222,
          -0.4482594206967007,
          -0.3362358378687678,
          -0.5082584292139282,
          -0.5738882514096856,
          -0.09160152578641956,
          -0.3362766521602034,
          -0.5738870107463606,
          -0.5739211944505674,
          -0.30960444570541207,
          -0.5028598739954206,
          -0.5739025341246101,
          -0.33623479499420605,
          -0.5738846941776286,
          -0.5738829587713085,
          -0.2958344260320676,
          -0.10551501287114282,
          -0.5738929227388685,
          -0.5030443047130659,
          -0.30958924104966423,
          -0.10551384713978311,
          -0.6389289392035692,
          -0.6168371438674215,
          -0.10550567876143617,
          -0.5738861852495576,
          -0.3362384513832276,
          -0.18421290823111655,
          -0.5738955007563309,
          -0.30882178294641266,
          -0.5738843913394484,
          -0.5738836348736864,
          -0.22012868099619431,
          -0.573926403653347,
          -0.33623540408413805,
          -0.5738840449580591,
          -0.30959391237781253,
          -0.5742708236076236,
          -0.5028942455468445,
          -0.10552936688078463,
          -0.5739554968769742,
          -0.2960200156957073,
          -0.5828244814557554,
          -0.5207410556744945,
          -0.5876985957975863,
          -0.29578807877984425,
          -0.5028555761857606,
          -0.06857657985277461,
          -0.33626941414081335,
          -0.5210034495784862,
          -0.2005048751564539,
          -0.5738885883266188,
          -0.06162793940892335,
          -0.5028738761813264,
          -0.1775422020522747,
          -0.5877629268061829,
          -0.573932686676974,
          -0.24264378562476516,
          -0.5738959518123962,
          -0.2201416396260305,
          -0.5738834288624403,
          -0.22475281101169087,
          -0.3306123950416064,
          -0.5739733713462623,
          -0.5028538229417338,
          -0.2959017447527555,
          -0.4982843785276375,
          -0.2957950295010539,
          -0.22017256989548548,
          -0.1543292773496592,
          -0.3466767212062185,
          -0.22015240612627485,
          -0.2958338961449178,
          -0.5755306084499799,
          -0.498240776415228,
          -0.22475155148148065,
          -0.4549391931227878,
          -0.6386874028505926,
          -0.058520124682687746,
          0.08222400581553116
         ]
        },
        {
         "hovertemplate": "class=%{marker.color}<br>Principal Component 1=%{x}<br>Principal Component 2=%{y}<br>Principal Component 3=%{z}<extra></extra>",
         "legendgroup": "2.0",
         "marker": {
          "color": [
           2,
           2,
           2,
           2,
           2,
           2,
           2,
           2,
           2,
           2,
           2,
           2,
           2,
           2,
           2,
           2,
           2,
           2,
           2,
           2,
           2,
           2,
           2,
           2,
           2,
           2,
           2,
           2,
           2,
           2,
           2,
           2,
           2,
           2,
           2,
           2,
           2,
           2,
           2,
           2,
           2,
           2,
           2,
           2,
           2,
           2,
           2,
           2,
           2,
           2,
           2,
           2,
           2,
           2,
           2,
           2,
           2,
           2,
           2,
           2,
           2,
           2,
           2,
           2,
           2,
           2,
           2,
           2,
           2,
           2,
           2,
           2,
           2,
           2,
           2,
           2,
           2,
           2,
           2,
           2,
           2,
           2,
           2,
           2,
           2,
           2,
           2,
           2,
           2,
           2,
           2,
           2,
           2,
           2,
           2,
           2
          ],
          "coloraxis": "coloraxis",
          "symbol": "diamond"
         },
         "mode": "markers",
         "name": "2.0",
         "scene": "scene",
         "showlegend": true,
         "type": "scatter3d",
         "x": [
          -0.14842537775918993,
          -0.15836500498154948,
          -0.16421271996487483,
          -0.14854894530082793,
          0.15753966564817368,
          -0.14957430213485493,
          -0.2484760792700479,
          -0.09645061913398238,
          -0.14899359653303051,
          -0.19951758849004594,
          0.22577297515543018,
          -0.1493888676822732,
          -0.14970031581742266,
          -0.17873455256113227,
          -0.12887447683244171,
          -0.14849258792272071,
          -0.14877071558428795,
          1.6033125130053705,
          -0.14605383883383088,
          -0.14965200995652986,
          -0.14963142041105312,
          -0.14772151078274462,
          -0.152459304647804,
          -0.15273021031370038,
          -0.1533222172868226,
          -0.24873992264120975,
          -0.15252675990872244,
          3.859134833289133,
          0.4501195116614273,
          -0.14692800255213948,
          -0.1329842317814561,
          -0.11949520639313284,
          -0.15302464320054307,
          -0.15588035401514927,
          -0.15276392855100596,
          -0.14709206300882596,
          -0.1668442177887257,
          0.35707468231850625,
          -0.1739802446101964,
          -0.14834214190192488,
          0.26654597553735254,
          -0.2476055143656818,
          -0.14859031874681092,
          -0.23292075931554979,
          0.29466361333695545,
          -0.11056258482055605,
          -0.14694235755895252,
          -0.14944483513484963,
          -0.14857061507792552,
          -0.07634713325161452,
          -0.24638343769479032,
          0.2946579440272075,
          -0.14976390109034146,
          0.29478897170999496,
          -0.14858301297511337,
          -0.14786099661720462,
          -0.17037738533354546,
          -0.1491151747636567,
          -0.24858831573515788,
          3.2678775720858027,
          -0.07519294644713136,
          -0.14898362811383742,
          -0.18343417594636124,
          -0.1484286958543416,
          -0.15414534970055327,
          -0.1478592014037189,
          -0.18327924289777928,
          -0.164947429733678,
          -0.18337966889221047,
          0.2946406868405085,
          1.0812588560997904,
          -0.17645346108755727,
          -0.16076067593396304,
          0.29852399031120214,
          -0.15364725275025723,
          -0.14959509742840918,
          -0.24765482879145778,
          -0.16339992817387963,
          0.3084600242295841,
          -0.24854437135381485,
          -0.14961974126581773,
          -0.1459523147336843,
          -0.13614168956721853,
          -0.19825834846486184,
          -0.04293166086183334,
          -0.15692881537196585,
          -0.15295692284952817,
          0.3747639712075177,
          -0.14826112441329653,
          -0.20356723875960583,
          -0.1185938227550212,
          -0.15109673854910766,
          -0.09979251208129851,
          -0.19907755475410446,
          -0.1476477766968445,
          -0.13127327585298054
         ],
         "y": [
          -1.120937741058228,
          -2.2805073778606175,
          -2.0226797963161642,
          -2.05538463898919,
          -1.8644721176438463,
          -1.1209336626815676,
          -0.904453392818222,
          -1.859950665470364,
          -1.1209693753485401,
          -1.2448758423649948,
          -1.3238002475966155,
          -1.1209270650555672,
          -1.1209311785141367,
          -1.604153374771928,
          -1.1211959276850234,
          -1.1209301420615814,
          -1.120941640159376,
          -1.1232036358842592,
          -1.1209828238010786,
          -1.120928577959809,
          -1.1209356949092302,
          -1.1210311542256548,
          -1.3223056008597034,
          -1.3223387794828843,
          -1.32230293371675,
          -0.9044485083399655,
          -1.322306565145882,
          -2.3281436140245,
          -2.324935404625761,
          -1.1209432554944383,
          -1.1210420062342894,
          -2.2000533649973057,
          -1.32230715327406,
          -2.2213080628675175,
          -1.32232125450255,
          -1.1210087589213213,
          -2.0226356331085418,
          -2.241207495971809,
          -2.2360258421781296,
          -1.1209347795855993,
          -1.3227964815579645,
          -0.9044680886188848,
          -1.1210038019450796,
          -1.4399998326724797,
          -2.3233376319757912,
          -1.8598818856639123,
          -1.1209677529132354,
          -1.1209354786647712,
          -2.055385409984454,
          -1.1254492255593362,
          -0.9045273652321419,
          -2.3233456831966137,
          -1.1209273599403704,
          -2.323343875692374,
          -2.0553829967252546,
          -1.120929078248679,
          -2.2876428314910497,
          -1.1209537204425797,
          -0.9044566011607826,
          -1.1420465473815145,
          -1.1257649563593481,
          -1.1209576032089987,
          -1.6041000841364543,
          -2.055380360599367,
          -2.199543649138406,
          -1.1209290143762596,
          -1.604107416382781,
          -2.0227558881998857,
          -1.604101570055297,
          -2.3233402316639675,
          -1.3232195974763323,
          -1.6041892442291807,
          -2.222429865550797,
          -2.3234329134641283,
          -2.199485747175072,
          -1.1209344025633288,
          -0.9044812606613699,
          -2.256440023188559,
          -2.3235532214569785,
          -0.9044565361939071,
          -1.1209360680802611,
          -2.2813145289766403,
          -2.108486861644897,
          -1.2895207948550063,
          -2.057035164040107,
          -2.2162290306921717,
          -1.322304743832112,
          -2.3262464047534914,
          -2.0553814530960626,
          -1.5549651590804563,
          -0.3670237907940386,
          -1.3223434578052056,
          -2.2187542873998476,
          -1.2448751717072148,
          -1.120980006570635,
          -1.8597644451148292
         ],
         "z": [
          -0.029949707570270424,
          0.40261238666798926,
          0.4041031071509407,
          0.4240041011827561,
          0.31229933097927437,
          -0.029927040960861354,
          0.04110236682550709,
          0.3167520530079056,
          -0.02993330881572801,
          0.1390638955207222,
          0.20026988388022646,
          -0.029931818080005532,
          -0.02992486895173776,
          0.27429052927601116,
          -0.030306309931634794,
          -0.02994951649826827,
          -0.02994210435023441,
          -0.06511835026255508,
          -0.029990841383639354,
          -0.029926249369090045,
          -0.029925569493143594,
          -0.029949575914801654,
          0.20770841745241336,
          0.20771902604127968,
          0.20772550251905197,
          0.041106963353266905,
          0.2077099338479496,
          0.3213839108056856,
          0.3900100078065237,
          -0.02997921790179278,
          -0.03024671387373403,
          0.3550476576028213,
          0.2077201195488593,
          0.44735959674159786,
          0.20771700756935674,
          -0.029965791601634467,
          0.4041496536392189,
          0.42974867056151994,
          0.40276641303993466,
          -0.02995185187302058,
          0.19928840717266263,
          0.04108698127510083,
          -0.0299361774630343,
          0.5991159394804539,
          0.3929156548613568,
          0.3170275804318081,
          -0.029975149637709822,
          -0.029929386014887035,
          0.424004659434504,
          -0.03071554095367547,
          0.04107134233517332,
          0.3929170112118106,
          -0.029924168482372185,
          0.3929140758159219,
          0.42400453871750804,
          -0.029962486590759937,
          0.5078747355806217,
          -0.029933257506825257,
          0.04110513720525816,
          -0.09596351345261203,
          -0.03069026125339303,
          -0.02993532605475433,
          0.2743776014785428,
          0.424001003344546,
          0.43020043117289913,
          -0.029962532838631362,
          0.27437559061876016,
          0.4041297364755833,
          0.2743767254109993,
          0.3929165205563729,
          0.07964190330393757,
          0.2742498087872527,
          0.49170438766818403,
          0.3928520735913617,
          0.4301814040441602,
          -0.029926505237356012,
          0.041090012136777675,
          0.461497447528975,
          0.39266916185135126,
          0.041104236177434215,
          -0.029925748759586222,
          0.40248516140609275,
          0.4196461032869197,
          0.2041873052845493,
          0.42211710934266083,
          0.4222013639738895,
          0.20771837495296142,
          0.39174004748279173,
          0.4239977741368768,
          0.16766862553524317,
          -0.04373156030926705,
          0.2076866273145696,
          0.42202782977553216,
          0.13905487004503664,
          -0.029958957283608468,
          0.3174293998827103
         ]
        },
        {
         "hovertemplate": "class=%{marker.color}<br>Principal Component 1=%{x}<br>Principal Component 2=%{y}<br>Principal Component 3=%{z}<extra></extra>",
         "legendgroup": "3.0",
         "marker": {
          "color": [
           3,
           3,
           3
          ],
          "coloraxis": "coloraxis",
          "symbol": "square"
         },
         "mode": "markers",
         "name": "3.0",
         "scene": "scene",
         "showlegend": true,
         "type": "scatter3d",
         "x": [
          4.414263346597227,
          -0.4555559592214221,
          -0.3690245755382808
         ],
         "y": [
          2.8269956554465954,
          2.6113127897619726,
          3.292990337619522
         ],
         "z": [
          6.232204672530074,
          9.169173652113997,
          16.04911632991052
         ]
        },
        {
         "hovertemplate": "class=%{marker.color}<br>Principal Component 1=%{x}<br>Principal Component 2=%{y}<br>Principal Component 3=%{z}<extra></extra>",
         "legendgroup": "1.0",
         "marker": {
          "color": [
           1
          ],
          "coloraxis": "coloraxis",
          "symbol": "x"
         },
         "mode": "markers",
         "name": "1.0",
         "scene": "scene",
         "showlegend": true,
         "type": "scatter3d",
         "x": [
          34.08997703590009
         ],
         "y": [
          1.7612040938193552
         ],
         "z": [
          -0.9171861026739271
         ]
        }
       ],
       "layout": {
        "coloraxis": {
         "colorbar": {
          "title": {
           "text": "class"
          }
         },
         "colorscale": [
          [
           0,
           "#0d0887"
          ],
          [
           0.1111111111111111,
           "#46039f"
          ],
          [
           0.2222222222222222,
           "#7201a8"
          ],
          [
           0.3333333333333333,
           "#9c179e"
          ],
          [
           0.4444444444444444,
           "#bd3786"
          ],
          [
           0.5555555555555556,
           "#d8576b"
          ],
          [
           0.6666666666666666,
           "#ed7953"
          ],
          [
           0.7777777777777778,
           "#fb9f3a"
          ],
          [
           0.8888888888888888,
           "#fdca26"
          ],
          [
           1,
           "#f0f921"
          ]
         ]
        },
        "legend": {
         "title": {
          "text": "class"
         },
         "tracegroupgap": 0
        },
        "margin": {
         "t": 60
        },
        "scene": {
         "domain": {
          "x": [
           0,
           1
          ],
          "y": [
           0,
           1
          ]
         },
         "xaxis": {
          "title": {
           "text": "Principal Component 1"
          }
         },
         "yaxis": {
          "title": {
           "text": "Principal Component 2"
          }
         },
         "zaxis": {
          "title": {
           "text": "Principal Component 3"
          }
         }
        },
        "template": {
         "data": {
          "bar": [
           {
            "error_x": {
             "color": "#2a3f5f"
            },
            "error_y": {
             "color": "#2a3f5f"
            },
            "marker": {
             "line": {
              "color": "#E5ECF6",
              "width": 0.5
             },
             "pattern": {
              "fillmode": "overlay",
              "size": 10,
              "solidity": 0.2
             }
            },
            "type": "bar"
           }
          ],
          "barpolar": [
           {
            "marker": {
             "line": {
              "color": "#E5ECF6",
              "width": 0.5
             },
             "pattern": {
              "fillmode": "overlay",
              "size": 10,
              "solidity": 0.2
             }
            },
            "type": "barpolar"
           }
          ],
          "carpet": [
           {
            "aaxis": {
             "endlinecolor": "#2a3f5f",
             "gridcolor": "white",
             "linecolor": "white",
             "minorgridcolor": "white",
             "startlinecolor": "#2a3f5f"
            },
            "baxis": {
             "endlinecolor": "#2a3f5f",
             "gridcolor": "white",
             "linecolor": "white",
             "minorgridcolor": "white",
             "startlinecolor": "#2a3f5f"
            },
            "type": "carpet"
           }
          ],
          "choropleth": [
           {
            "colorbar": {
             "outlinewidth": 0,
             "ticks": ""
            },
            "type": "choropleth"
           }
          ],
          "contour": [
           {
            "colorbar": {
             "outlinewidth": 0,
             "ticks": ""
            },
            "colorscale": [
             [
              0,
              "#0d0887"
             ],
             [
              0.1111111111111111,
              "#46039f"
             ],
             [
              0.2222222222222222,
              "#7201a8"
             ],
             [
              0.3333333333333333,
              "#9c179e"
             ],
             [
              0.4444444444444444,
              "#bd3786"
             ],
             [
              0.5555555555555556,
              "#d8576b"
             ],
             [
              0.6666666666666666,
              "#ed7953"
             ],
             [
              0.7777777777777778,
              "#fb9f3a"
             ],
             [
              0.8888888888888888,
              "#fdca26"
             ],
             [
              1,
              "#f0f921"
             ]
            ],
            "type": "contour"
           }
          ],
          "contourcarpet": [
           {
            "colorbar": {
             "outlinewidth": 0,
             "ticks": ""
            },
            "type": "contourcarpet"
           }
          ],
          "heatmap": [
           {
            "colorbar": {
             "outlinewidth": 0,
             "ticks": ""
            },
            "colorscale": [
             [
              0,
              "#0d0887"
             ],
             [
              0.1111111111111111,
              "#46039f"
             ],
             [
              0.2222222222222222,
              "#7201a8"
             ],
             [
              0.3333333333333333,
              "#9c179e"
             ],
             [
              0.4444444444444444,
              "#bd3786"
             ],
             [
              0.5555555555555556,
              "#d8576b"
             ],
             [
              0.6666666666666666,
              "#ed7953"
             ],
             [
              0.7777777777777778,
              "#fb9f3a"
             ],
             [
              0.8888888888888888,
              "#fdca26"
             ],
             [
              1,
              "#f0f921"
             ]
            ],
            "type": "heatmap"
           }
          ],
          "heatmapgl": [
           {
            "colorbar": {
             "outlinewidth": 0,
             "ticks": ""
            },
            "colorscale": [
             [
              0,
              "#0d0887"
             ],
             [
              0.1111111111111111,
              "#46039f"
             ],
             [
              0.2222222222222222,
              "#7201a8"
             ],
             [
              0.3333333333333333,
              "#9c179e"
             ],
             [
              0.4444444444444444,
              "#bd3786"
             ],
             [
              0.5555555555555556,
              "#d8576b"
             ],
             [
              0.6666666666666666,
              "#ed7953"
             ],
             [
              0.7777777777777778,
              "#fb9f3a"
             ],
             [
              0.8888888888888888,
              "#fdca26"
             ],
             [
              1,
              "#f0f921"
             ]
            ],
            "type": "heatmapgl"
           }
          ],
          "histogram": [
           {
            "marker": {
             "pattern": {
              "fillmode": "overlay",
              "size": 10,
              "solidity": 0.2
             }
            },
            "type": "histogram"
           }
          ],
          "histogram2d": [
           {
            "colorbar": {
             "outlinewidth": 0,
             "ticks": ""
            },
            "colorscale": [
             [
              0,
              "#0d0887"
             ],
             [
              0.1111111111111111,
              "#46039f"
             ],
             [
              0.2222222222222222,
              "#7201a8"
             ],
             [
              0.3333333333333333,
              "#9c179e"
             ],
             [
              0.4444444444444444,
              "#bd3786"
             ],
             [
              0.5555555555555556,
              "#d8576b"
             ],
             [
              0.6666666666666666,
              "#ed7953"
             ],
             [
              0.7777777777777778,
              "#fb9f3a"
             ],
             [
              0.8888888888888888,
              "#fdca26"
             ],
             [
              1,
              "#f0f921"
             ]
            ],
            "type": "histogram2d"
           }
          ],
          "histogram2dcontour": [
           {
            "colorbar": {
             "outlinewidth": 0,
             "ticks": ""
            },
            "colorscale": [
             [
              0,
              "#0d0887"
             ],
             [
              0.1111111111111111,
              "#46039f"
             ],
             [
              0.2222222222222222,
              "#7201a8"
             ],
             [
              0.3333333333333333,
              "#9c179e"
             ],
             [
              0.4444444444444444,
              "#bd3786"
             ],
             [
              0.5555555555555556,
              "#d8576b"
             ],
             [
              0.6666666666666666,
              "#ed7953"
             ],
             [
              0.7777777777777778,
              "#fb9f3a"
             ],
             [
              0.8888888888888888,
              "#fdca26"
             ],
             [
              1,
              "#f0f921"
             ]
            ],
            "type": "histogram2dcontour"
           }
          ],
          "mesh3d": [
           {
            "colorbar": {
             "outlinewidth": 0,
             "ticks": ""
            },
            "type": "mesh3d"
           }
          ],
          "parcoords": [
           {
            "line": {
             "colorbar": {
              "outlinewidth": 0,
              "ticks": ""
             }
            },
            "type": "parcoords"
           }
          ],
          "pie": [
           {
            "automargin": true,
            "type": "pie"
           }
          ],
          "scatter": [
           {
            "marker": {
             "colorbar": {
              "outlinewidth": 0,
              "ticks": ""
             }
            },
            "type": "scatter"
           }
          ],
          "scatter3d": [
           {
            "line": {
             "colorbar": {
              "outlinewidth": 0,
              "ticks": ""
             }
            },
            "marker": {
             "colorbar": {
              "outlinewidth": 0,
              "ticks": ""
             }
            },
            "type": "scatter3d"
           }
          ],
          "scattercarpet": [
           {
            "marker": {
             "colorbar": {
              "outlinewidth": 0,
              "ticks": ""
             }
            },
            "type": "scattercarpet"
           }
          ],
          "scattergeo": [
           {
            "marker": {
             "colorbar": {
              "outlinewidth": 0,
              "ticks": ""
             }
            },
            "type": "scattergeo"
           }
          ],
          "scattergl": [
           {
            "marker": {
             "colorbar": {
              "outlinewidth": 0,
              "ticks": ""
             }
            },
            "type": "scattergl"
           }
          ],
          "scattermapbox": [
           {
            "marker": {
             "colorbar": {
              "outlinewidth": 0,
              "ticks": ""
             }
            },
            "type": "scattermapbox"
           }
          ],
          "scatterpolar": [
           {
            "marker": {
             "colorbar": {
              "outlinewidth": 0,
              "ticks": ""
             }
            },
            "type": "scatterpolar"
           }
          ],
          "scatterpolargl": [
           {
            "marker": {
             "colorbar": {
              "outlinewidth": 0,
              "ticks": ""
             }
            },
            "type": "scatterpolargl"
           }
          ],
          "scatterternary": [
           {
            "marker": {
             "colorbar": {
              "outlinewidth": 0,
              "ticks": ""
             }
            },
            "type": "scatterternary"
           }
          ],
          "surface": [
           {
            "colorbar": {
             "outlinewidth": 0,
             "ticks": ""
            },
            "colorscale": [
             [
              0,
              "#0d0887"
             ],
             [
              0.1111111111111111,
              "#46039f"
             ],
             [
              0.2222222222222222,
              "#7201a8"
             ],
             [
              0.3333333333333333,
              "#9c179e"
             ],
             [
              0.4444444444444444,
              "#bd3786"
             ],
             [
              0.5555555555555556,
              "#d8576b"
             ],
             [
              0.6666666666666666,
              "#ed7953"
             ],
             [
              0.7777777777777778,
              "#fb9f3a"
             ],
             [
              0.8888888888888888,
              "#fdca26"
             ],
             [
              1,
              "#f0f921"
             ]
            ],
            "type": "surface"
           }
          ],
          "table": [
           {
            "cells": {
             "fill": {
              "color": "#EBF0F8"
             },
             "line": {
              "color": "white"
             }
            },
            "header": {
             "fill": {
              "color": "#C8D4E3"
             },
             "line": {
              "color": "white"
             }
            },
            "type": "table"
           }
          ]
         },
         "layout": {
          "annotationdefaults": {
           "arrowcolor": "#2a3f5f",
           "arrowhead": 0,
           "arrowwidth": 1
          },
          "autotypenumbers": "strict",
          "coloraxis": {
           "colorbar": {
            "outlinewidth": 0,
            "ticks": ""
           }
          },
          "colorscale": {
           "diverging": [
            [
             0,
             "#8e0152"
            ],
            [
             0.1,
             "#c51b7d"
            ],
            [
             0.2,
             "#de77ae"
            ],
            [
             0.3,
             "#f1b6da"
            ],
            [
             0.4,
             "#fde0ef"
            ],
            [
             0.5,
             "#f7f7f7"
            ],
            [
             0.6,
             "#e6f5d0"
            ],
            [
             0.7,
             "#b8e186"
            ],
            [
             0.8,
             "#7fbc41"
            ],
            [
             0.9,
             "#4d9221"
            ],
            [
             1,
             "#276419"
            ]
           ],
           "sequential": [
            [
             0,
             "#0d0887"
            ],
            [
             0.1111111111111111,
             "#46039f"
            ],
            [
             0.2222222222222222,
             "#7201a8"
            ],
            [
             0.3333333333333333,
             "#9c179e"
            ],
            [
             0.4444444444444444,
             "#bd3786"
            ],
            [
             0.5555555555555556,
             "#d8576b"
            ],
            [
             0.6666666666666666,
             "#ed7953"
            ],
            [
             0.7777777777777778,
             "#fb9f3a"
            ],
            [
             0.8888888888888888,
             "#fdca26"
            ],
            [
             1,
             "#f0f921"
            ]
           ],
           "sequentialminus": [
            [
             0,
             "#0d0887"
            ],
            [
             0.1111111111111111,
             "#46039f"
            ],
            [
             0.2222222222222222,
             "#7201a8"
            ],
            [
             0.3333333333333333,
             "#9c179e"
            ],
            [
             0.4444444444444444,
             "#bd3786"
            ],
            [
             0.5555555555555556,
             "#d8576b"
            ],
            [
             0.6666666666666666,
             "#ed7953"
            ],
            [
             0.7777777777777778,
             "#fb9f3a"
            ],
            [
             0.8888888888888888,
             "#fdca26"
            ],
            [
             1,
             "#f0f921"
            ]
           ]
          },
          "colorway": [
           "#636efa",
           "#EF553B",
           "#00cc96",
           "#ab63fa",
           "#FFA15A",
           "#19d3f3",
           "#FF6692",
           "#B6E880",
           "#FF97FF",
           "#FECB52"
          ],
          "font": {
           "color": "#2a3f5f"
          },
          "geo": {
           "bgcolor": "white",
           "lakecolor": "white",
           "landcolor": "#E5ECF6",
           "showlakes": true,
           "showland": true,
           "subunitcolor": "white"
          },
          "hoverlabel": {
           "align": "left"
          },
          "hovermode": "closest",
          "mapbox": {
           "style": "light"
          },
          "paper_bgcolor": "white",
          "plot_bgcolor": "#E5ECF6",
          "polar": {
           "angularaxis": {
            "gridcolor": "white",
            "linecolor": "white",
            "ticks": ""
           },
           "bgcolor": "#E5ECF6",
           "radialaxis": {
            "gridcolor": "white",
            "linecolor": "white",
            "ticks": ""
           }
          },
          "scene": {
           "xaxis": {
            "backgroundcolor": "#E5ECF6",
            "gridcolor": "white",
            "gridwidth": 2,
            "linecolor": "white",
            "showbackground": true,
            "ticks": "",
            "zerolinecolor": "white"
           },
           "yaxis": {
            "backgroundcolor": "#E5ECF6",
            "gridcolor": "white",
            "gridwidth": 2,
            "linecolor": "white",
            "showbackground": true,
            "ticks": "",
            "zerolinecolor": "white"
           },
           "zaxis": {
            "backgroundcolor": "#E5ECF6",
            "gridcolor": "white",
            "gridwidth": 2,
            "linecolor": "white",
            "showbackground": true,
            "ticks": "",
            "zerolinecolor": "white"
           }
          },
          "shapedefaults": {
           "line": {
            "color": "#2a3f5f"
           }
          },
          "ternary": {
           "aaxis": {
            "gridcolor": "white",
            "linecolor": "white",
            "ticks": ""
           },
           "baxis": {
            "gridcolor": "white",
            "linecolor": "white",
            "ticks": ""
           },
           "bgcolor": "#E5ECF6",
           "caxis": {
            "gridcolor": "white",
            "linecolor": "white",
            "ticks": ""
           }
          },
          "title": {
           "x": 0.05
          },
          "xaxis": {
           "automargin": true,
           "gridcolor": "white",
           "linecolor": "white",
           "ticks": "",
           "title": {
            "standoff": 15
           },
           "zerolinecolor": "white",
           "zerolinewidth": 2
          },
          "yaxis": {
           "automargin": true,
           "gridcolor": "white",
           "linecolor": "white",
           "ticks": "",
           "title": {
            "standoff": 15
           },
           "zerolinecolor": "white",
           "zerolinewidth": 2
          }
         }
        }
       }
      }
     },
     "metadata": {}
    }
   ],
   "metadata": {}
  },
  {
   "cell_type": "markdown",
   "source": [
    "#### Table of Tradable Cryptocurrencies"
   ],
   "metadata": {}
  },
  {
   "cell_type": "code",
   "execution_count": 121,
   "source": [
    "# Table with tradable cryptos\r\n",
    "#.loc[:,'CoinName':'TotalCoinSupply']\r\n",
    "col = [x for x in df_result.columns[0:5]]\r\n",
    "tbl = df_result.dropna().hvplot.table(col)\r\n",
    "tbl"
   ],
   "outputs": [
    {
     "output_type": "display_data",
     "data": {},
     "metadata": {}
    },
    {
     "output_type": "execute_result",
     "data": {
      "application/vnd.holoviews_exec.v0+json": "",
      "text/plain": [
       ":Table   [CoinName,Algorithm,ProofType,TotalCoinsMined,TotalCoinSupply]"
      ],
      "text/html": [
       "<div id='1526'>\n",
       "\n",
       "\n",
       "\n",
       "\n",
       "\n",
       "  <div class=\"bk-root\" id=\"ea31f03d-1289-4600-afcb-cc5aa6435428\" data-root-id=\"1526\"></div>\n",
       "</div>\n",
       "<script type=\"application/javascript\">(function(root) {\n",
       "  function embed_document(root) {\n",
       "    var docs_json = {\"c08d6f92-b164-47ca-aca6-910583510282\":{\"defs\":[],\"roots\":{\"references\":[{\"attributes\":{\"editor\":{\"id\":\"1541\"},\"field\":\"ProofType\",\"formatter\":{\"id\":\"1540\"},\"title\":\"ProofType\"},\"id\":\"1542\",\"type\":\"TableColumn\"},{\"attributes\":{\"margin\":[5,5,5,5],\"name\":\"HSpacer02605\",\"sizing_mode\":\"stretch_width\"},\"id\":\"1527\",\"type\":\"Spacer\"},{\"attributes\":{},\"id\":\"1546\",\"type\":\"NumberEditor\"},{\"attributes\":{},\"id\":\"1550\",\"type\":\"StringFormatter\"},{\"attributes\":{\"data\":{\"Algorithm\":[\"Scrypt\",\"Scrypt\",\"X13\",\"SHA-256\",\"Ethash\",\"Scrypt\",\"X11\",\"CryptoNight-V7\",\"Ethash\",\"Equihash\",\"SHA-512\",\"Multiple\",\"SHA-256\",\"SHA-256\",\"Scrypt\",\"X15\",\"X11\",\"Scrypt\",\"Scrypt\",\"Scrypt\",\"Multiple\",\"Scrypt\",\"SHA-256\",\"Scrypt\",\"Scrypt\",\"Scrypt\",\"Quark\",\"Groestl\",\"Scrypt\",\"Scrypt\",\"Scrypt\",\"Scrypt\",\"Scrypt\",\"X11\",\"Scrypt\",\"Groestl\",\"Multiple\",\"SHA-256\",\"Scrypt\",\"Scrypt\",\"Scrypt\",\"Scrypt\",\"PoS\",\"Scrypt\",\"Scrypt\",\"NeoScrypt\",\"Scrypt\",\"Scrypt\",\"Scrypt\",\"Scrypt\",\"X11\",\"Scrypt\",\"X11\",\"SHA-256\",\"Scrypt\",\"Scrypt\",\"Scrypt\",\"SHA3\",\"Scrypt\",\"HybridScryptHash256\",\"Scrypt\",\"Scrypt\",\"SHA-256\",\"Scrypt\",\"X13\",\"Scrypt\",\"SHA-256\",\"Scrypt\",\"X13\",\"NeoScrypt\",\"Scrypt\",\"Scrypt\",\"Scrypt\",\"Scrypt\",\"Scrypt\",\"Scrypt\",\"X11\",\"X11\",\"SHA-256\",\"Multiple\",\"SHA-256\",\"PHI1612\",\"X11\",\"SHA-256\",\"SHA-256\",\"SHA-256\",\"X11\",\"Scrypt\",\"Scrypt\",\"Scrypt\",\"Scrypt\",\"Lyra2REv2\",\"Scrypt\",\"X11\",\"Multiple\",\"SHA-256\",\"X13\",\"Scrypt\",\"CryptoNight\",\"CryptoNight\",\"Shabal256\",\"Counterparty\",\"Scrypt\",\"SHA-256\",\"Groestl\",\"Scrypt\",\"Scrypt\",\"Scrypt\",\"X13\",\"Scrypt\",\"Scrypt\",\"Scrypt\",\"Scrypt\",\"X13\",\"Scrypt\",\"Stanford Folding\",\"X11\",\"Multiple\",\"QuBit\",\"Scrypt\",\"Scrypt\",\"Scrypt\",\"M7 POW\",\"Scrypt\",\"SHA-256\",\"Scrypt\",\"X11\",\"SHA3\",\"X11\",\"Lyra2RE\",\"SHA-256\",\"QUAIT\",\"X11\",\"X11\",\"Scrypt\",\"Scrypt\",\"Scrypt\",\"Ethash\",\"X13\",\"Blake2b\",\"SHA-256\",\"X15\",\"X11\",\"SHA-256\",\"BLAKE256\",\"Scrypt\",\"1GB AES Pattern Search\",\"SHA-256\",\"X11\",\"Scrypt\",\"SHA-256\",\"SHA-256\",\"NIST5\",\"Scrypt\",\"Scrypt\",\"X11\",\"Dagger\",\"Scrypt\",\"X11GOST\",\"X11\",\"Scrypt\",\"SHA-256\",\"Scrypt\",\"PoS\",\"Scrypt\",\"X11\",\"X11\",\"SHA-256\",\"SHA-256\",\"NIST5\",\"X11\",\"Scrypt\",\"POS 3.0\",\"Scrypt\",\"Scrypt\",\"Scrypt\",\"X13\",\"X11\",\"X11\",\"Equihash\",\"X11\",\"Scrypt\",\"CryptoNight\",\"SHA-256\",\"SHA-256\",\"X11\",\"Scrypt\",\"Multiple\",\"Scrypt\",\"Scrypt\",\"Scrypt\",\"SHA-256\",\"Scrypt\",\"Scrypt\",\"SHA-256D\",\"PoS\",\"Scrypt\",\"X11\",\"Lyra2Z\",\"PoS\",\"X13\",\"X14\",\"PoS\",\"SHA-256D\",\"Ethash\"],\"CoinName\":[\"42 Coin\",\"404Coin\",\"EliteCoin\",\"Bitcoin\",\"Ethereum\",\"Litecoin\",\"Dash\",\"Monero\",\"Ethereum Classic\",\"ZCash\",\"Bitshares\",\"DigiByte\",\"BitcoinDark\",\"PayCoin\",\"ProsperCoin\",\"KoboCoin\",\"Spreadcoin\",\"Argentum\",\"Aurora Coin\",\"BlueCoin\",\"MyriadCoin\",\"MoonCoin\",\"ZetaCoin\",\"SexCoin\",\"Quatloo\",\"EnergyCoin\",\"QuarkCoin\",\"Riecoin\",\"Digitalcoin \",\"BitBar\",\"Catcoin\",\"CryptoBullion\",\"CannaCoin\",\"CryptCoin\",\"CasinoCoin\",\"Diamond\",\"Verge\",\"DevCoin\",\"EarthCoin\",\"E-Gulden\",\"Einsteinium\",\"Emerald\",\"Exclusive Coin\",\"FlutterCoin\",\"Franko\",\"FeatherCoin\",\"GrandCoin\",\"GlobalCoin\",\"GoldCoin\",\"HoboNickels\",\"HyperStake\",\"Infinite Coin\",\"IOCoin\",\"IXcoin\",\"KrugerCoin\",\"LuckyCoin\",\"Litebar \",\"MaxCoin\",\"MegaCoin\",\"MediterraneanCoin\",\"MintCoin\",\"MinCoin\",\"MazaCoin\",\"Nautilus Coin\",\"NavCoin\",\"NobleCoin\",\"Namecoin\",\"NyanCoin\",\"OpalCoin\",\"Orbitcoin\",\"PotCoin\",\"PhoenixCoin\",\"Reddcoin\",\"RonPaulCoin\",\"StableCoin\",\"SmartCoin\",\"SuperCoin\",\"SyncCoin\",\"SysCoin\",\"TeslaCoin\",\"TigerCoin\",\"TittieCoin\",\"TorCoin\",\"TerraCoin\",\"UnbreakableCoin\",\"Unobtanium\",\"UroCoin\",\"UnitaryStatus Dollar\",\"UltraCoin\",\"ViaCoin\",\"VeriCoin\",\"Vertcoin\",\"WorldCoin\",\"X11 Coin\",\"Crypti\",\"JouleCoin\",\"StealthCoin\",\"ZCC Coin\",\"ByteCoin\",\"DigitalNote \",\"BurstCoin\",\"StorjCoin\",\"MonaCoin\",\"Neutron\",\"FairCoin\",\"Gulden\",\"RubyCoin\",\"PesetaCoin\",\"Kore\",\"Wild Beast Coin\",\"Dnotes\",\"Flo\",\"8BIT Coin\",\"Sativa Coin\",\"ArtByte\",\"Folding Coin\",\"Ucoin\",\"Unitus\",\"CypherPunkCoin\",\"OmniCron\",\"Vtorrent\",\"GreenCoin\",\"Cryptonite\",\"MasterCoin\",\"SoonCoin\",\"1Credit\",\"IslaCoin\",\"Nexus\",\"MarsCoin \",\"Crypto\",\"Anarchists Prime\",\"Droidz\",\"BowsCoin\",\"Squall Coin\",\"Song Coin\",\"BitZeny\",\"Diggits\",\"Expanse\",\"Paycon\",\"Siacoin\",\"Emercoin\",\"EverGreenCoin\",\"MindCoin\",\"I0coin\",\"Decred\",\"Revolution VR\",\"HOdlcoin\",\"EDRCoin\",\"Hitcoin\",\"Gamecredits\",\"DubaiCoin\",\"CarpeDiemCoin\",\"PWR Coin\",\"BillaryCoin\",\"GPU Coin\",\"Adzcoin\",\"SoilCoin\",\"YoCoin\",\"SibCoin\",\"EuropeCoin\",\"ZeitCoin\",\"SwingCoin\",\"SafeExchangeCoin\",\"Nebuchadnezzar\",\"Francs\",\"BolivarCoin\",\"Ratecoin\",\"Revenu\",\"Clockcoin\",\"VIP Tokens\",\"BitSend\",\"Omni\",\"Let it Ride\",\"PutinCoin\",\"iBankCoin\",\"Frankywillcoin\",\"MudraCoin\",\"PizzaCoin\",\"Lutetium Coin\",\"Komodo\",\"GoldBlocks\",\"CarterCoin\",\"Karbo\",\"BitTokens\",\"ZayedCoin\",\"MustangCoin\",\"ZoneCoin\",\"Circuits of Value\",\"RootCoin\",\"DopeCoin\",\"BitCurrency\",\"DollarCoin\",\"Swiscoin\",\"Shilling\",\"BuzzCoin\",\"Opair\",\"PesoBit\",\"Halloween Coin\",\"ZCoin\",\"CoffeeCoin\",\"RoyalCoin\",\"GanjaCoin V2\",\"TeamUP\",\"LanaCoin\",\"Elementrem\"],\"ProofType\":[\"PoW/PoS\",\"PoW/PoS\",\"PoW/PoS\",\"PoW\",\"PoW\",\"PoW\",\"PoW/PoS\",\"PoW\",\"PoW\",\"PoW\",\"PoS\",\"PoW\",\"PoW/PoS\",\"PoS\",\"PoW\",\"PoW/PoS\",\"PoW\",\"PoW\",\"PoW/PoS\",\"PoW/PoS\",\"PoW\",\"PoW\",\"PoW\",\"PoW\",\"PoW\",\"PoW/PoS\",\"PoW\",\"PoW\",\"PoW\",\"PoW/PoS\",\"PoW\",\"PoW/PoS\",\"PoW\",\"PoW\",\"PoC\",\"PoW/PoS\",\"PoW\",\"PoW\",\"PoW\",\"PoW\",\"PoW\",\"PoW\",\"PoS\",\"PoS/PoW/PoT\",\"PoW\",\"PoW\",\"PoW\",\"PoW\",\"PoW\",\"PoW/PoS\",\"PoS\",\"PoW\",\"PoW/PoS\",\"PoW\",\"PoW\",\"PoW\",\"PoW\",\"PoW/PoS\",\"PoW\",\"PoW\",\"PoS\",\"PoW\",\"PoW/PoS\",\"PoS\",\"PoW/PoS\",\"PoW\",\"PoW\",\"PoW\",\"PoW/PoS\",\"PoW/PoS\",\"PoW/PoS\",\"PoW/PoS\",\"PoW/PoS\",\"PoW\",\"PoW\",\"PoW\",\"PoS\",\"PoW/PoS\",\"PoW\",\"PoS\",\"PoW\",\"PoS\",\"PoW/PoS\",\"PoW\",\"PoW\",\"PoW\",\"PoW\",\"PoW/PoS\",\"PoW/PoS\",\"PoW\",\"PoST\",\"PoW\",\"PoW\",\"PoW/PoS\",\"PoS\",\"PoW\",\"PoW/PoS\",\"PoW/PoS\",\"PoW\",\"PoW\",\"PoC\",\"PoS\",\"PoW\",\"PoW/PoS\",\"PoW/PoS\",\"PoW\",\"PoS\",\"PoW\",\"PoW/PoS\",\"PoW\",\"PoS\",\"PoW\",\"PoW/PoS\",\"PoW/PoS\",\"PoW\",\"PoW\",\"PoS\",\"PoW\",\"PoW\",\"PoW\",\"PoW/PoS\",\"PoW\",\"PoW\",\"PoW\",\"PoW\",\"PoW\",\"PoW/PoS\",\"PoW/nPoS\",\"PoW\",\"PoW\",\"PoW\",\"PoW/PoS\",\"PoW\",\"PoS/PoW\",\"PoW\",\"PoW\",\"PoS\",\"PoW\",\"PoW/PoS\",\"PoW\",\"PoW/PoS\",\"PoW/PoS\",\"PoW\",\"PoW\",\"PoW/PoS\",\"PoW\",\"PoW\",\"PoW/PoS\",\"PoW/PoS\",\"PoW\",\"PoW/PoS\",\"PoW\",\"PoW/PoS\",\"PoW/PoS\",\"PoS\",\"PoW\",\"PoW\",\"PoW\",\"PoW\",\"PoW/PoS\",\"PoS\",\"PoW/PoS\",\"PoC\",\"PoS\",\"PoW\",\"PoW\",\"PoW/PoS\",\"PoW/PoS\",\"PoW/PoS\",\"PoW/PoS\",\"PoW/PoS\",\"PoW\",\"PoS\",\"PoW/PoS\",\"PoW/PoS\",\"PoW/PoS\",\"PoS\",\"PoW\",\"PoS\",\"dPoW/PoW\",\"PoW/PoS\",\"PoW/PoS\",\"PoW\",\"PoW/PoS\",\"PoW\",\"PoW/PoS\",\"PoW/PoS\",\"PoW\",\"PoW/PoS\",\"PoW\",\"PoS\",\"PoW\",\"PoW/PoW\",\"PoW\",\"PoW/PoS\",\"PoS\",\"PoW/PoS\",\"PoW/PoS\",\"PoW\",\"PoS\",\"PoS\",\"PoW/PoS\",\"PoS\",\"PoW/PoS\",\"PoW\"],\"TotalCoinSupply\":[\"42\",\"532000000\",\"314159265359\",\"21000000\",\"0\",\"84000000\",\"22000000\",\"0\",\"210000000\",\"21000000\",\"3600570502\",\"21000000000\",\"22000000\",\"12500000\",\"21000000\",\"350000000\",\"20000000\",\"64000000\",\"16768584\",\"0\",\"2000000000\",\"384000000000\",\"169795588\",\"250000000\",\"100000000\",\"0\",\"247000000\",\"84000000\",\"48166000\",\"500000\",\"21000000 \",\"1000000\",\"13140000\",\"18000000\",\"40000000000\",\"4380000\",\"16555000000\",\"21000000000\",\"13500000000\",\"21000000 \",\"299792458\",\"32000000\",\"0\",\"0\",\"11235813\",\"336000000\",\"1420609614\",\"70000000\",\"72245700\",\"120000000\",\"0\",\"90600000000\",\"22000000\",\"21000000\",\"265420800\",\"20000000\",\"1350000\",\"100000000\",\"42000000\",\"200000000\",\"0\",\"10000000\",\"2419200000\",\"16180000\",\"0\",\"15000000000\",\"21000000\",\"337000000\",\"0\",\"3770000\",\"420000000\",\"98000000\",\"0\",\"21000000\",\"250000000\",\"51200000\",\"0\",\"1000\",\"888000000\",\"100000000\",\"47011968\",\"2300000000\",\"10000000\",\"42000000\",\"80000000\",\"250000\",\"0\",\"1600000000\",\"100000000\",\"23000000\",\"0\",\"84000000\",\"265420800\",\"5500000\",\"0\",\"45000000\",\"0\",\"1000000000\",\"184467440735\",\"10000000000\",\"2158812800\",\"500000000\",\"105120000\",\"68000000\",\"0\",\"1680000000\",\"0\",\"166386000\",\"12000000\",\"2628000\",\"500000000\",\"160000000\",\"0\",\"10000000\",\"1000000000\",\"1000000000\",\"20000000\",\"0\",\"0\",\"3371337\",\"20000000\",\"10000000000\",\"1840000000\",\"619478\",\"21000000\",\"92000000000\",\"0\",\"78000000\",\"33000000\",\"65789100\",\"53760000\",\"5060000\",\"21000000\",\"0\",\"210240000\",\"250000000\",\"100000000\",\"16906397\",\"50000000\",\"0\",\"1000000000\",\"26298000\",\"16000000\",\"21000000\",\"21000000\",\"210000000\",\"81962100\",\"22000000\",\"26550000000\",\"84000000\",\"10500000\",\"21626280000 \",\"0\",\"42000000\",\"221052632\",\"84000000\",\"30000000\",\"168351300\",\"24000000\",\"384000000\",\" 99000000000\",\"40000000\",\"2147483647\",\"20000000\",\"20000000\",\"25000000\",\"75000000\",\"222725000\",\"525000000\",\"90000000\",\"139000000\",\"616448\",\"33500000\",\"2000000000\",\"44333333\",\"100000000\",\"200000000\",\"25000000\",\"657000000\",\"200000000\",\"50000000\",\"90000000\",\"10000000\",\"21000000\",\"9736000\",\"3000000\",\"21000000\",\"1200000000\",\"0\",\"200000000\",\"0\",\"10638298\",\"3100000000\",\"30000000\",\"20000000000\",\"74000000\",\"0\",\"1500000000\",\"21400000\",\"39999898\",\"2500124\",\"100000000\",\"301000000\",\"7506000000\",\"26205539\"],\"TotalCoinsMined\":{\"__ndarray__\":\"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\",\"dtype\":\"float64\",\"order\":\"little\",\"shape\":[205]}},\"selected\":{\"id\":\"1529\"},\"selection_policy\":{\"id\":\"1558\"}},\"id\":\"1528\",\"type\":\"ColumnDataSource\"},{\"attributes\":{},\"id\":\"1558\",\"type\":\"UnionRenderers\"},{\"attributes\":{\"editor\":{\"id\":\"1551\"},\"field\":\"TotalCoinSupply\",\"formatter\":{\"id\":\"1550\"},\"title\":\"TotalCoinSupply\"},\"id\":\"1552\",\"type\":\"TableColumn\"},{\"attributes\":{},\"id\":\"1529\",\"type\":\"Selection\"},{\"attributes\":{},\"id\":\"1530\",\"type\":\"StringFormatter\"},{\"attributes\":{},\"id\":\"1540\",\"type\":\"StringFormatter\"},{\"attributes\":{\"format\":\"0,0.0[00000]\"},\"id\":\"1545\",\"type\":\"NumberFormatter\"},{\"attributes\":{},\"id\":\"1536\",\"type\":\"StringEditor\"},{\"attributes\":{},\"id\":\"1531\",\"type\":\"StringEditor\"},{\"attributes\":{\"columns\":[{\"id\":\"1532\"},{\"id\":\"1537\"},{\"id\":\"1542\"},{\"id\":\"1547\"},{\"id\":\"1552\"}],\"height\":300,\"reorderable\":false,\"source\":{\"id\":\"1528\"},\"view\":{\"id\":\"1557\"},\"width\":700},\"id\":\"1555\",\"type\":\"DataTable\"},{\"attributes\":{\"children\":[{\"id\":\"1527\"},{\"id\":\"1555\"},{\"id\":\"1562\"}],\"margin\":[0,0,0,0],\"name\":\"Row02601\",\"tags\":[\"embedded\"]},\"id\":\"1526\",\"type\":\"Row\"},{\"attributes\":{\"editor\":{\"id\":\"1531\"},\"field\":\"CoinName\",\"formatter\":{\"id\":\"1530\"},\"title\":\"CoinName\"},\"id\":\"1532\",\"type\":\"TableColumn\"},{\"attributes\":{},\"id\":\"1535\",\"type\":\"StringFormatter\"},{\"attributes\":{\"source\":{\"id\":\"1528\"}},\"id\":\"1557\",\"type\":\"CDSView\"},{\"attributes\":{},\"id\":\"1551\",\"type\":\"StringEditor\"},{\"attributes\":{\"editor\":{\"id\":\"1536\"},\"field\":\"Algorithm\",\"formatter\":{\"id\":\"1535\"},\"title\":\"Algorithm\"},\"id\":\"1537\",\"type\":\"TableColumn\"},{\"attributes\":{},\"id\":\"1541\",\"type\":\"StringEditor\"},{\"attributes\":{\"margin\":[5,5,5,5],\"name\":\"HSpacer02606\",\"sizing_mode\":\"stretch_width\"},\"id\":\"1562\",\"type\":\"Spacer\"},{\"attributes\":{\"editor\":{\"id\":\"1546\"},\"field\":\"TotalCoinsMined\",\"formatter\":{\"id\":\"1545\"},\"title\":\"TotalCoinsMined\"},\"id\":\"1547\",\"type\":\"TableColumn\"}],\"root_ids\":[\"1526\"]},\"title\":\"Bokeh Application\",\"version\":\"2.3.2\"}};\n",
       "    var render_items = [{\"docid\":\"c08d6f92-b164-47ca-aca6-910583510282\",\"root_ids\":[\"1526\"],\"roots\":{\"1526\":\"ea31f03d-1289-4600-afcb-cc5aa6435428\"}}];\n",
       "    root.Bokeh.embed.embed_items_notebook(docs_json, render_items);\n",
       "  }\n",
       "  if (root.Bokeh !== undefined && root.Bokeh.Panel !== undefined) {\n",
       "    embed_document(root);\n",
       "  } else {\n",
       "    var attempts = 0;\n",
       "    var timer = setInterval(function(root) {\n",
       "      if (root.Bokeh !== undefined && root.Bokeh.Panel !== undefined) {\n",
       "        clearInterval(timer);\n",
       "        embed_document(root);\n",
       "      } else if (document.readyState == \"complete\") {\n",
       "        attempts++;\n",
       "        if (attempts > 100) {\n",
       "          clearInterval(timer);\n",
       "          console.log(\"Bokeh: ERROR: Unable to run BokehJS code because BokehJS library is missing\");\n",
       "        }\n",
       "      }\n",
       "    }, 10, root)\n",
       "  }\n",
       "})(window);</script>"
      ]
     },
     "metadata": {
      "application/vnd.holoviews_exec.v0+json": {
       "id": "1526"
      }
     },
     "execution_count": 121
    }
   ],
   "metadata": {}
  },
  {
   "cell_type": "code",
   "execution_count": 122,
   "source": [
    "# Print the total number of tradable cryptocurrencies\r\n",
    "print(f\"There are {len(coin_name_df)} tradable currencies\")"
   ],
   "outputs": [
    {
     "output_type": "stream",
     "name": "stdout",
     "text": [
      "There are 532 tradable currencies\n"
     ]
    }
   ],
   "metadata": {}
  },
  {
   "cell_type": "markdown",
   "source": [
    "#### Scatter Plot with Tradable Cryptocurrencies"
   ],
   "metadata": {}
  },
  {
   "cell_type": "code",
   "execution_count": 124,
   "source": [
    "# Scale data to create the scatter plot\r\n",
    "df_result.TotalCoinsMined = (df_result.TotalCoinsMined.astype(float)) * 1.0e-8\r\n",
    "df_result.TotalCoinSupply = (df_result.TotalCoinSupply.astype(float)) * 1.0e-8\r\n"
   ],
   "outputs": [],
   "metadata": {}
  },
  {
   "cell_type": "code",
   "execution_count": 127,
   "source": [
    "# Plot the scatter with x=\"TotalCoinsMined\" and y=\"TotalCoinSupply\"\r\n",
    "df_result.hvplot.scatter(\r\n",
    "    x=\"TotalCoinsMined\"\r\n",
    "    , y = \"TotalCoinSupply\"\r\n",
    "    , colormap = \"Algorithm\"\r\n",
    ")\r\n"
   ],
   "outputs": [
    {
     "output_type": "display_data",
     "data": {},
     "metadata": {}
    },
    {
     "output_type": "execute_result",
     "data": {
      "application/vnd.holoviews_exec.v0+json": "",
      "text/plain": [
       ":Scatter   [TotalCoinsMined]   (TotalCoinSupply)"
      ],
      "text/html": [
       "<div id='1696'>\n",
       "\n",
       "\n",
       "\n",
       "\n",
       "\n",
       "  <div class=\"bk-root\" id=\"35e46560-3846-4f92-befc-f47d33c5ead7\" data-root-id=\"1696\"></div>\n",
       "</div>\n",
       "<script type=\"application/javascript\">(function(root) {\n",
       "  function embed_document(root) {\n",
       "    var docs_json = {\"175acba2-5656-40ff-bcc3-d7f8ddf619ee\":{\"defs\":[],\"roots\":{\"references\":[{\"attributes\":{},\"id\":\"1719\",\"type\":\"PanTool\"},{\"attributes\":{},\"id\":\"1720\",\"type\":\"WheelZoomTool\"},{\"attributes\":{\"text_color\":\"black\",\"text_font_size\":\"12pt\"},\"id\":\"1702\",\"type\":\"Title\"},{\"attributes\":{},\"id\":\"1740\",\"type\":\"AllLabels\"},{\"attributes\":{\"overlay\":{\"id\":\"1723\"}},\"id\":\"1721\",\"type\":\"BoxZoomTool\"},{\"attributes\":{\"margin\":[5,5,5,5],\"name\":\"HSpacer02996\",\"sizing_mode\":\"stretch_width\"},\"id\":\"1766\",\"type\":\"Spacer\"},{\"attributes\":{},\"id\":\"1722\",\"type\":\"ResetTool\"},{\"attributes\":{\"margin\":[5,5,5,5],\"name\":\"HSpacer02995\",\"sizing_mode\":\"stretch_width\"},\"id\":\"1697\",\"type\":\"Spacer\"},{\"attributes\":{\"data_source\":{\"id\":\"1731\"},\"glyph\":{\"id\":\"1734\"},\"hover_glyph\":null,\"muted_glyph\":{\"id\":\"1736\"},\"nonselection_glyph\":{\"id\":\"1735\"},\"selection_glyph\":{\"id\":\"1739\"},\"view\":{\"id\":\"1738\"}},\"id\":\"1737\",\"type\":\"GlyphRenderer\"},{\"attributes\":{\"callback\":null,\"renderers\":[{\"id\":\"1737\"}],\"tags\":[\"hv_created\"],\"tooltips\":[[\"TotalCoinsMined\",\"@{TotalCoinsMined}\"],[\"TotalCoinSupply\",\"@{TotalCoinSupply}\"]]},\"id\":\"1700\",\"type\":\"HoverTool\"},{\"attributes\":{\"fill_alpha\":{\"value\":0.2},\"fill_color\":{\"value\":\"#30a2da\"},\"line_alpha\":{\"value\":0.2},\"line_color\":{\"value\":\"#30a2da\"},\"size\":{\"value\":5.477225575051661},\"x\":{\"field\":\"TotalCoinsMined\"},\"y\":{\"field\":\"TotalCoinSupply\"}},\"id\":\"1736\",\"type\":\"Scatter\"},{\"attributes\":{},\"id\":\"1754\",\"type\":\"UnionRenderers\"},{\"attributes\":{\"children\":[{\"id\":\"1697\"},{\"id\":\"1701\"},{\"id\":\"1766\"}],\"margin\":[0,0,0,0],\"name\":\"Row02991\",\"tags\":[\"embedded\"]},\"id\":\"1696\",\"type\":\"Row\"},{\"attributes\":{\"end\":10324.168011566911,\"reset_end\":10324.168011566911,\"reset_start\":-424.28087675042156,\"start\":-424.28087675042156,\"tags\":[[[\"TotalCoinsMined\",\"TotalCoinsMined\",null]]]},\"id\":\"1698\",\"type\":\"Range1d\"},{\"attributes\":{\"fill_color\":{\"value\":\"#30a2da\"},\"line_color\":{\"value\":\"#30a2da\"},\"size\":{\"value\":5.477225575051661},\"x\":{\"field\":\"TotalCoinsMined\"},\"y\":{\"field\":\"TotalCoinSupply\"}},\"id\":\"1734\",\"type\":\"Scatter\"},{\"attributes\":{\"source\":{\"id\":\"1731\"}},\"id\":\"1738\",\"type\":\"CDSView\"},{\"attributes\":{\"angle\":{\"value\":0.0},\"fill_alpha\":{\"value\":1.0},\"fill_color\":{\"value\":\"#30a2da\"},\"hatch_alpha\":{\"value\":1.0},\"hatch_color\":{\"value\":\"black\"},\"hatch_scale\":{\"value\":12.0},\"hatch_weight\":{\"value\":1.0},\"line_alpha\":{\"value\":1.0},\"line_cap\":{\"value\":\"butt\"},\"line_color\":{\"value\":\"#30a2da\"},\"line_dash\":{\"value\":[]},\"line_dash_offset\":{\"value\":0},\"line_join\":{\"value\":\"bevel\"},\"line_width\":{\"value\":1},\"marker\":{\"value\":\"circle\"},\"size\":{\"value\":5.477225575051661},\"x\":{\"field\":\"TotalCoinsMined\"},\"y\":{\"field\":\"TotalCoinSupply\"}},\"id\":\"1739\",\"type\":\"Scatter\"},{\"attributes\":{\"end\":0.00011,\"reset_end\":0.00011,\"reset_start\":-1e-05,\"start\":-1e-05,\"tags\":[[[\"TotalCoinSupply\",\"TotalCoinSupply\",null]]]},\"id\":\"1699\",\"type\":\"Range1d\"},{\"attributes\":{},\"id\":\"1743\",\"type\":\"AllLabels\"},{\"attributes\":{},\"id\":\"1732\",\"type\":\"Selection\"},{\"attributes\":{},\"id\":\"1711\",\"type\":\"BasicTicker\"},{\"attributes\":{},\"id\":\"1745\",\"type\":\"BasicTickFormatter\"},{\"attributes\":{\"below\":[{\"id\":\"1710\"}],\"center\":[{\"id\":\"1713\"},{\"id\":\"1717\"}],\"height\":300,\"left\":[{\"id\":\"1714\"}],\"margin\":[5,5,5,5],\"min_border_bottom\":10,\"min_border_left\":10,\"min_border_right\":10,\"min_border_top\":10,\"renderers\":[{\"id\":\"1737\"}],\"sizing_mode\":\"fixed\",\"title\":{\"id\":\"1702\"},\"toolbar\":{\"id\":\"1724\"},\"width\":700,\"x_range\":{\"id\":\"1698\"},\"x_scale\":{\"id\":\"1706\"},\"y_range\":{\"id\":\"1699\"},\"y_scale\":{\"id\":\"1708\"}},\"id\":\"1701\",\"subtype\":\"Figure\",\"type\":\"Plot\"},{\"attributes\":{\"fill_alpha\":{\"value\":0.1},\"fill_color\":{\"value\":\"#30a2da\"},\"line_alpha\":{\"value\":0.1},\"line_color\":{\"value\":\"#30a2da\"},\"size\":{\"value\":5.477225575051661},\"x\":{\"field\":\"TotalCoinsMined\"},\"y\":{\"field\":\"TotalCoinSupply\"}},\"id\":\"1735\",\"type\":\"Scatter\"},{\"attributes\":{},\"id\":\"1708\",\"type\":\"LinearScale\"},{\"attributes\":{\"active_multi\":null,\"tools\":[{\"id\":\"1700\"},{\"id\":\"1718\"},{\"id\":\"1719\"},{\"id\":\"1720\"},{\"id\":\"1721\"},{\"id\":\"1722\"}]},\"id\":\"1724\",\"type\":\"Toolbar\"},{\"attributes\":{\"axis_label\":\"TotalCoinsMined\",\"formatter\":{\"id\":\"1742\"},\"major_label_policy\":{\"id\":\"1740\"},\"ticker\":{\"id\":\"1711\"}},\"id\":\"1710\",\"type\":\"LinearAxis\"},{\"attributes\":{},\"id\":\"1742\",\"type\":\"BasicTickFormatter\"},{\"attributes\":{},\"id\":\"1706\",\"type\":\"LinearScale\"},{\"attributes\":{\"axis\":{\"id\":\"1710\"},\"grid_line_color\":null,\"ticker\":null},\"id\":\"1713\",\"type\":\"Grid\"},{\"attributes\":{},\"id\":\"1718\",\"type\":\"SaveTool\"},{\"attributes\":{\"axis\":{\"id\":\"1714\"},\"dimension\":1,\"grid_line_color\":null,\"ticker\":null},\"id\":\"1717\",\"type\":\"Grid\"},{\"attributes\":{\"bottom_units\":\"screen\",\"fill_alpha\":0.5,\"fill_color\":\"lightgrey\",\"left_units\":\"screen\",\"level\":\"overlay\",\"line_alpha\":1.0,\"line_color\":\"black\",\"line_dash\":[4,4],\"line_width\":2,\"right_units\":\"screen\",\"syncable\":false,\"top_units\":\"screen\"},\"id\":\"1723\",\"type\":\"BoxAnnotation\"},{\"attributes\":{\"data\":{\"TotalCoinSupply\":{\"__ndarray__\":\"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\",\"dtype\":\"float64\",\"order\":\"little\",\"shape\":[532]},\"TotalCoinsMined\":{\"__ndarray__\":\"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\",\"dtype\":\"float64\",\"order\":\"little\",\"shape\":[532]}},\"selected\":{\"id\":\"1732\"},\"selection_policy\":{\"id\":\"1754\"}},\"id\":\"1731\",\"type\":\"ColumnDataSource\"},{\"attributes\":{\"axis_label\":\"TotalCoinSupply\",\"formatter\":{\"id\":\"1745\"},\"major_label_policy\":{\"id\":\"1743\"},\"ticker\":{\"id\":\"1715\"}},\"id\":\"1714\",\"type\":\"LinearAxis\"},{\"attributes\":{},\"id\":\"1715\",\"type\":\"BasicTicker\"}],\"root_ids\":[\"1696\"]},\"title\":\"Bokeh Application\",\"version\":\"2.3.2\"}};\n",
       "    var render_items = [{\"docid\":\"175acba2-5656-40ff-bcc3-d7f8ddf619ee\",\"root_ids\":[\"1696\"],\"roots\":{\"1696\":\"35e46560-3846-4f92-befc-f47d33c5ead7\"}}];\n",
       "    root.Bokeh.embed.embed_items_notebook(docs_json, render_items);\n",
       "  }\n",
       "  if (root.Bokeh !== undefined && root.Bokeh.Panel !== undefined) {\n",
       "    embed_document(root);\n",
       "  } else {\n",
       "    var attempts = 0;\n",
       "    var timer = setInterval(function(root) {\n",
       "      if (root.Bokeh !== undefined && root.Bokeh.Panel !== undefined) {\n",
       "        clearInterval(timer);\n",
       "        embed_document(root);\n",
       "      } else if (document.readyState == \"complete\") {\n",
       "        attempts++;\n",
       "        if (attempts > 100) {\n",
       "          clearInterval(timer);\n",
       "          console.log(\"Bokeh: ERROR: Unable to run BokehJS code because BokehJS library is missing\");\n",
       "        }\n",
       "      }\n",
       "    }, 10, root)\n",
       "  }\n",
       "})(window);</script>"
      ]
     },
     "metadata": {
      "application/vnd.holoviews_exec.v0+json": {
       "id": "1696"
      }
     },
     "execution_count": 127
    }
   ],
   "metadata": {}
  }
 ],
 "metadata": {
  "file_extension": ".py",
  "kernelspec": {
   "name": "python3",
   "display_name": "Python 3.9.5 64-bit"
  },
  "language_info": {
   "codemirror_mode": {
    "name": "ipython",
    "version": 3
   },
   "file_extension": ".py",
   "mimetype": "text/x-python",
   "name": "python",
   "nbconvert_exporter": "python",
   "pygments_lexer": "ipython3",
   "version": "3.9.5"
  },
  "mimetype": "text/x-python",
  "name": "python",
  "npconvert_exporter": "python",
  "pygments_lexer": "ipython3",
  "version": 3,
  "interpreter": {
   "hash": "ac59ebe37160ed0dfa835113d9b8498d9f09ceb179beaac4002f036b9467c963"
  }
 },
 "nbformat": 4,
 "nbformat_minor": 4
}